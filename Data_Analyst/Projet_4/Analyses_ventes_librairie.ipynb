{
 "cells": [
  {
   "cell_type": "markdown",
   "metadata": {},
   "source": [
    "# <font color=\"#067790\">Projet 4 : Analysez les ventes de votre entreprise</font>\n",
    "\n",
    "### Dans ce projet, il est prévu d'analyser les KPI liées aux performances commerciales et financières de la société.\n",
    "\n",
    "Ce travail est découpé en 2 grandes parties : l'analyse marketing des variables de cet échantillon et la recherche de corrélations entre elles.<br/>\n",
    "\n",
    "\n",
    "Les datas utilitées dans ce notebook principal ont été préalablement nettoyées via notebook nettoyage Projet 4.<br/>"
   ]
  },
  {
   "cell_type": "markdown",
   "metadata": {},
   "source": [
    "## Tables des matières <a id=\"sommaire\"></a>\n",
    "0. [Import des librairies et des data nettoyées](#data)<br/>\n",
    "1. [Analyse echantillon](#Analyse)<br/>\n",
    "   1.1 [Analyse client](#client)<br/>\n",
    "      1.1.1 [Les BtoB](#btob)<br/>\n",
    "      1.1.2 [Les juniors de 18 à 30 ans](#junior)<br/>\n",
    "      1.1.3 [Les middle age de 31 à 50 ans](#middleage)<br/>\n",
    "      1.1.4 [Les seniors de 51 à 90 ans](#senior)<br/>\n",
    "      1.1.5 [Focus sur les mauvais clients](#mauvais)<br/>\n",
    "      1.1.6 [Depense client](#depense)<br/>\n",
    "    1.2 [Offre produits](#produit)<br/>\n",
    "    1.3 [Santé financière](#sante)<br/>\n",
    "    1.4 [Connexions](#connexions)<br/>\n",
    "    \n",
    "2. [Recherche de corrélations](#corrélation)<br/>\n",
    "    2.1 [Corrélation entre sexe et catégorie de produits achetés](#sexe_catégorie)<br/>\n",
    "    2.2 [Corrélation entre age et montant total des achats](#montant_total_achat)<br/>\n",
    "    2.3 [Corrélation entre age et fréquence des achats](#frequence_achat)<br/>\n",
    "    2.4 [Corrélation entre age et panier moyen d'achats](#panier_moyen)<br/>\n",
    "    2.5 [Correlation et age et catégorie de produits achetés](#produit_achetés)\n",
    "    "
   ]
  },
  {
   "cell_type": "markdown",
   "metadata": {},
   "source": [
    "## [0. Import des librairies et des data nettoyées](#sommaire)\n",
    "<a id=\"data\" a>"
   ]
  },
  {
   "cell_type": "code",
   "execution_count": 2,
   "metadata": {},
   "outputs": [],
   "source": [
    "import numpy as np\n",
    "import pandas as pd\n",
    "import seaborn as sns\n",
    "import matplotlib.pyplot as plt\n",
    "import statsmodels.api as sm\n",
    "from scipy import stats\n",
    "from scipy.stats import spearmanr\n",
    "import statsmodels.formula.api \n",
    "import statsmodels.api"
   ]
  },
  {
   "cell_type": "code",
   "execution_count": 17,
   "metadata": {},
   "outputs": [
    {
     "data": {
      "text/plain": [
       "'0.10.0'"
      ]
     },
     "execution_count": 17,
     "metadata": {},
     "output_type": "execute_result"
    }
   ],
   "source": [
    "import seaborn as sns\n",
    "sns.__version__"
   ]
  },
  {
   "cell_type": "code",
   "execution_count": 3,
   "metadata": {},
   "outputs": [],
   "source": [
    "# Lecture des 4 dataframes \n",
    "dfc = pd.read_csv(\"data/customers_cleaned.csv\")\n",
    "df = pd.read_csv(\"data/transactions_cleaned.csv\")\n",
    "dfp = pd.read_csv(\"data/products_cleaned.csv\")\n",
    "dfs = pd.read_csv(\"data/sessions_cleaned.csv\")"
   ]
  },
  {
   "cell_type": "code",
   "execution_count": 4,
   "metadata": {},
   "outputs": [
    {
     "data": {
      "text/html": [
       "<div>\n",
       "<style scoped>\n",
       "    .dataframe tbody tr th:only-of-type {\n",
       "        vertical-align: middle;\n",
       "    }\n",
       "\n",
       "    .dataframe tbody tr th {\n",
       "        vertical-align: top;\n",
       "    }\n",
       "\n",
       "    .dataframe thead th {\n",
       "        text-align: right;\n",
       "    }\n",
       "</style>\n",
       "<table border=\"1\" class=\"dataframe\">\n",
       "  <thead>\n",
       "    <tr style=\"text-align: right;\">\n",
       "      <th></th>\n",
       "      <th>session_id</th>\n",
       "      <th>sales_count</th>\n",
       "      <th>sales_sum</th>\n",
       "      <th>client_id</th>\n",
       "      <th>year</th>\n",
       "      <th>month</th>\n",
       "      <th>age</th>\n",
       "      <th>sex</th>\n",
       "    </tr>\n",
       "  </thead>\n",
       "  <tbody>\n",
       "    <tr>\n",
       "      <th>0</th>\n",
       "      <td>s_118668</td>\n",
       "      <td>14</td>\n",
       "      <td>264.99</td>\n",
       "      <td>c_5995</td>\n",
       "      <td>2021</td>\n",
       "      <td>11</td>\n",
       "      <td>30</td>\n",
       "      <td>f</td>\n",
       "    </tr>\n",
       "    <tr>\n",
       "      <th>1</th>\n",
       "      <td>s_96857</td>\n",
       "      <td>13</td>\n",
       "      <td>277.31</td>\n",
       "      <td>c_5523</td>\n",
       "      <td>2021</td>\n",
       "      <td>9</td>\n",
       "      <td>52</td>\n",
       "      <td>f</td>\n",
       "    </tr>\n",
       "    <tr>\n",
       "      <th>2</th>\n",
       "      <td>s_21005</td>\n",
       "      <td>13</td>\n",
       "      <td>162.20</td>\n",
       "      <td>c_8303</td>\n",
       "      <td>2021</td>\n",
       "      <td>4</td>\n",
       "      <td>32</td>\n",
       "      <td>m</td>\n",
       "    </tr>\n",
       "    <tr>\n",
       "      <th>3</th>\n",
       "      <td>s_168560</td>\n",
       "      <td>12</td>\n",
       "      <td>182.24</td>\n",
       "      <td>c_7855</td>\n",
       "      <td>2022</td>\n",
       "      <td>2</td>\n",
       "      <td>32</td>\n",
       "      <td>f</td>\n",
       "    </tr>\n",
       "    <tr>\n",
       "      <th>4</th>\n",
       "      <td>s_93892</td>\n",
       "      <td>12</td>\n",
       "      <td>130.58</td>\n",
       "      <td>c_8127</td>\n",
       "      <td>2021</td>\n",
       "      <td>9</td>\n",
       "      <td>34</td>\n",
       "      <td>f</td>\n",
       "    </tr>\n",
       "  </tbody>\n",
       "</table>\n",
       "</div>"
      ],
      "text/plain": [
       "  session_id  sales_count  sales_sum client_id  year  month  age sex\n",
       "0   s_118668           14     264.99    c_5995  2021     11   30   f\n",
       "1    s_96857           13     277.31    c_5523  2021      9   52   f\n",
       "2    s_21005           13     162.20    c_8303  2021      4   32   m\n",
       "3   s_168560           12     182.24    c_7855  2022      2   32   f\n",
       "4    s_93892           12     130.58    c_8127  2021      9   34   f"
      ]
     },
     "execution_count": 4,
     "metadata": {},
     "output_type": "execute_result"
    }
   ],
   "source": [
    "# Dataframe sur les sessions\n",
    "dfs.head()"
   ]
  },
  {
   "cell_type": "code",
   "execution_count": 5,
   "metadata": {},
   "outputs": [
    {
     "data": {
      "text/html": [
       "<div>\n",
       "<style scoped>\n",
       "    .dataframe tbody tr th:only-of-type {\n",
       "        vertical-align: middle;\n",
       "    }\n",
       "\n",
       "    .dataframe tbody tr th {\n",
       "        vertical-align: top;\n",
       "    }\n",
       "\n",
       "    .dataframe thead th {\n",
       "        text-align: right;\n",
       "    }\n",
       "</style>\n",
       "<table border=\"1\" class=\"dataframe\">\n",
       "  <thead>\n",
       "    <tr style=\"text-align: right;\">\n",
       "      <th></th>\n",
       "      <th>id_prod</th>\n",
       "      <th>date</th>\n",
       "      <th>session_id</th>\n",
       "      <th>client_id</th>\n",
       "      <th>price</th>\n",
       "      <th>categ</th>\n",
       "      <th>sex</th>\n",
       "      <th>birth</th>\n",
       "      <th>age</th>\n",
       "      <th>year</th>\n",
       "      <th>month</th>\n",
       "      <th>day</th>\n",
       "    </tr>\n",
       "  </thead>\n",
       "  <tbody>\n",
       "    <tr>\n",
       "      <th>0</th>\n",
       "      <td>0_1483</td>\n",
       "      <td>2021-04-10 18:37:28.723910</td>\n",
       "      <td>s_18746</td>\n",
       "      <td>c_4450</td>\n",
       "      <td>4.99</td>\n",
       "      <td>0.0</td>\n",
       "      <td>f</td>\n",
       "      <td>1977</td>\n",
       "      <td>45</td>\n",
       "      <td>2021</td>\n",
       "      <td>4</td>\n",
       "      <td>10</td>\n",
       "    </tr>\n",
       "    <tr>\n",
       "      <th>1</th>\n",
       "      <td>2_226</td>\n",
       "      <td>2022-02-03 01:55:53.276402</td>\n",
       "      <td>s_159142</td>\n",
       "      <td>c_277</td>\n",
       "      <td>65.75</td>\n",
       "      <td>2.0</td>\n",
       "      <td>f</td>\n",
       "      <td>2000</td>\n",
       "      <td>22</td>\n",
       "      <td>2022</td>\n",
       "      <td>2</td>\n",
       "      <td>3</td>\n",
       "    </tr>\n",
       "    <tr>\n",
       "      <th>2</th>\n",
       "      <td>1_374</td>\n",
       "      <td>2021-09-23 15:13:46.938559</td>\n",
       "      <td>s_94290</td>\n",
       "      <td>c_4270</td>\n",
       "      <td>10.71</td>\n",
       "      <td>1.0</td>\n",
       "      <td>f</td>\n",
       "      <td>1979</td>\n",
       "      <td>43</td>\n",
       "      <td>2021</td>\n",
       "      <td>9</td>\n",
       "      <td>23</td>\n",
       "    </tr>\n",
       "    <tr>\n",
       "      <th>3</th>\n",
       "      <td>0_2186</td>\n",
       "      <td>2021-10-17 03:27:18.783634</td>\n",
       "      <td>s_105936</td>\n",
       "      <td>c_4597</td>\n",
       "      <td>4.20</td>\n",
       "      <td>0.0</td>\n",
       "      <td>m</td>\n",
       "      <td>1963</td>\n",
       "      <td>59</td>\n",
       "      <td>2021</td>\n",
       "      <td>10</td>\n",
       "      <td>17</td>\n",
       "    </tr>\n",
       "    <tr>\n",
       "      <th>4</th>\n",
       "      <td>0_1351</td>\n",
       "      <td>2021-07-17 20:34:25.800563</td>\n",
       "      <td>s_63642</td>\n",
       "      <td>c_1242</td>\n",
       "      <td>8.99</td>\n",
       "      <td>0.0</td>\n",
       "      <td>f</td>\n",
       "      <td>1980</td>\n",
       "      <td>42</td>\n",
       "      <td>2021</td>\n",
       "      <td>7</td>\n",
       "      <td>17</td>\n",
       "    </tr>\n",
       "  </tbody>\n",
       "</table>\n",
       "</div>"
      ],
      "text/plain": [
       "  id_prod                        date session_id client_id  price  categ sex  \\\n",
       "0  0_1483  2021-04-10 18:37:28.723910    s_18746    c_4450   4.99    0.0   f   \n",
       "1   2_226  2022-02-03 01:55:53.276402   s_159142     c_277  65.75    2.0   f   \n",
       "2   1_374  2021-09-23 15:13:46.938559    s_94290    c_4270  10.71    1.0   f   \n",
       "3  0_2186  2021-10-17 03:27:18.783634   s_105936    c_4597   4.20    0.0   m   \n",
       "4  0_1351  2021-07-17 20:34:25.800563    s_63642    c_1242   8.99    0.0   f   \n",
       "\n",
       "   birth  age  year  month  day  \n",
       "0   1977   45  2021      4   10  \n",
       "1   2000   22  2022      2    3  \n",
       "2   1979   43  2021      9   23  \n",
       "3   1963   59  2021     10   17  \n",
       "4   1980   42  2021      7   17  "
      ]
     },
     "execution_count": 5,
     "metadata": {},
     "output_type": "execute_result"
    }
   ],
   "source": [
    "# Dataframe sur les transactions\n",
    "df.head()"
   ]
  },
  {
   "cell_type": "code",
   "execution_count": 6,
   "metadata": {},
   "outputs": [
    {
     "data": {
      "text/html": [
       "<div>\n",
       "<style scoped>\n",
       "    .dataframe tbody tr th:only-of-type {\n",
       "        vertical-align: middle;\n",
       "    }\n",
       "\n",
       "    .dataframe tbody tr th {\n",
       "        vertical-align: top;\n",
       "    }\n",
       "\n",
       "    .dataframe thead th {\n",
       "        text-align: right;\n",
       "    }\n",
       "</style>\n",
       "<table border=\"1\" class=\"dataframe\">\n",
       "  <thead>\n",
       "    <tr style=\"text-align: right;\">\n",
       "      <th></th>\n",
       "      <th>id_prod</th>\n",
       "      <th>price</th>\n",
       "      <th>categ</th>\n",
       "    </tr>\n",
       "  </thead>\n",
       "  <tbody>\n",
       "    <tr>\n",
       "      <th>0</th>\n",
       "      <td>0_1421</td>\n",
       "      <td>19.99</td>\n",
       "      <td>0</td>\n",
       "    </tr>\n",
       "    <tr>\n",
       "      <th>1</th>\n",
       "      <td>0_1368</td>\n",
       "      <td>5.13</td>\n",
       "      <td>0</td>\n",
       "    </tr>\n",
       "    <tr>\n",
       "      <th>2</th>\n",
       "      <td>0_731</td>\n",
       "      <td>17.99</td>\n",
       "      <td>0</td>\n",
       "    </tr>\n",
       "    <tr>\n",
       "      <th>3</th>\n",
       "      <td>1_587</td>\n",
       "      <td>4.99</td>\n",
       "      <td>1</td>\n",
       "    </tr>\n",
       "    <tr>\n",
       "      <th>4</th>\n",
       "      <td>0_1507</td>\n",
       "      <td>3.99</td>\n",
       "      <td>0</td>\n",
       "    </tr>\n",
       "  </tbody>\n",
       "</table>\n",
       "</div>"
      ],
      "text/plain": [
       "  id_prod  price  categ\n",
       "0  0_1421  19.99      0\n",
       "1  0_1368   5.13      0\n",
       "2   0_731  17.99      0\n",
       "3   1_587   4.99      1\n",
       "4  0_1507   3.99      0"
      ]
     },
     "execution_count": 6,
     "metadata": {},
     "output_type": "execute_result"
    }
   ],
   "source": [
    "# Dataframe sur le catalogue produit\n",
    "dfp.head()"
   ]
  },
  {
   "cell_type": "code",
   "execution_count": 7,
   "metadata": {},
   "outputs": [
    {
     "data": {
      "text/html": [
       "<div>\n",
       "<style scoped>\n",
       "    .dataframe tbody tr th:only-of-type {\n",
       "        vertical-align: middle;\n",
       "    }\n",
       "\n",
       "    .dataframe tbody tr th {\n",
       "        vertical-align: top;\n",
       "    }\n",
       "\n",
       "    .dataframe thead th {\n",
       "        text-align: right;\n",
       "    }\n",
       "</style>\n",
       "<table border=\"1\" class=\"dataframe\">\n",
       "  <thead>\n",
       "    <tr style=\"text-align: right;\">\n",
       "      <th></th>\n",
       "      <th>client_id</th>\n",
       "      <th>sex</th>\n",
       "      <th>birth</th>\n",
       "      <th>age</th>\n",
       "    </tr>\n",
       "  </thead>\n",
       "  <tbody>\n",
       "    <tr>\n",
       "      <th>0</th>\n",
       "      <td>c_4410</td>\n",
       "      <td>f</td>\n",
       "      <td>1967</td>\n",
       "      <td>55</td>\n",
       "    </tr>\n",
       "    <tr>\n",
       "      <th>1</th>\n",
       "      <td>c_7839</td>\n",
       "      <td>f</td>\n",
       "      <td>1975</td>\n",
       "      <td>47</td>\n",
       "    </tr>\n",
       "    <tr>\n",
       "      <th>2</th>\n",
       "      <td>c_1699</td>\n",
       "      <td>f</td>\n",
       "      <td>1984</td>\n",
       "      <td>38</td>\n",
       "    </tr>\n",
       "    <tr>\n",
       "      <th>3</th>\n",
       "      <td>c_5961</td>\n",
       "      <td>f</td>\n",
       "      <td>1962</td>\n",
       "      <td>60</td>\n",
       "    </tr>\n",
       "    <tr>\n",
       "      <th>4</th>\n",
       "      <td>c_5320</td>\n",
       "      <td>m</td>\n",
       "      <td>1943</td>\n",
       "      <td>79</td>\n",
       "    </tr>\n",
       "  </tbody>\n",
       "</table>\n",
       "</div>"
      ],
      "text/plain": [
       "  client_id sex  birth  age\n",
       "0    c_4410   f   1967   55\n",
       "1    c_7839   f   1975   47\n",
       "2    c_1699   f   1984   38\n",
       "3    c_5961   f   1962   60\n",
       "4    c_5320   m   1943   79"
      ]
     },
     "execution_count": 7,
     "metadata": {},
     "output_type": "execute_result"
    }
   ],
   "source": [
    "# Dataframe sur le catalogue client\n",
    "dfc.head()"
   ]
  },
  {
   "cell_type": "markdown",
   "metadata": {},
   "source": [
    "## [1. Analyse de l'échantillon](#sommaire)\n",
    "<a id=\"Analyse\" a/>"
   ]
  },
  {
   "cell_type": "markdown",
   "metadata": {},
   "source": [
    "## [1.1 Analyse client](#sommaire)\n",
    "<a id=\"client\" a>"
   ]
  },
  {
   "cell_type": "code",
   "execution_count": 23,
   "metadata": {},
   "outputs": [
    {
     "data": {
      "image/png": "[encoded data removed]",
      "text/plain": [
       "<Figure size 1008x864 with 1 Axes>"
      ]
     },
     "metadata": {
      "needs_background": "light"
     },
     "output_type": "display_data"
    }
   ],
   "source": [
    "# Répartition des ages de la base client par effectif\n",
    "plt.figure(figsize=(14,12))\n",
    "dfc[\"age\"].hist(bins=76)\n",
    "plt.xlabel('Age des clients', fontsize = 22)\n",
    "plt.ylabel('Effectif', fontsize =22)\n",
    "plt.title('Répartition des âges de la base client', fontsize = 22)\n",
    "plt.show()"
   ]
  },
  {
   "cell_type": "code",
   "execution_count": 25,
   "metadata": {},
   "outputs": [
    {
     "data": {
      "text/plain": [
       "Text(0, 0.5, 'CA')"
      ]
     },
     "execution_count": 25,
     "metadata": {},
     "output_type": "execute_result"
    },
    {
     "data": {
      "image/png": "[encoded data removed]",
      "text/plain": [
       "<Figure size 864x720 with 1 Axes>"
      ]
     },
     "metadata": {
      "needs_background": "light"
     },
     "output_type": "display_data"
    }
   ],
   "source": [
    "# Repérage des cibles client avec un fort potentiel d’ achat --> CA annuel par tranche d'age client \n",
    "A = dfs.groupby('age').sum().sales_sum.to_frame()\n",
    "A = A.reset_index()\n",
    "A.columns = ['Age','CA']\n",
    "A.sort_values(by='CA',ascending = False).head()\n",
    "\n",
    "# Graphique de ce chiffre d'affaires généré par âge\n",
    "x = A.Age\n",
    "y = A.CA\n",
    "plt.figure(figsize=(12,10))\n",
    "plt.scatter(x, y, c = 'red')\n",
    "plt.title('CA annuel généré par age client, base (DFS)',fontsize = 22)\n",
    "plt.xlabel('Age',fontsize = 22)\n",
    "plt.ylabel('CA',fontsize = 22)\n"
   ]
  },
  {
   "cell_type": "code",
   "execution_count": 28,
   "metadata": {},
   "outputs": [
    {
     "data": {
      "text/plain": [
       "Text(0, 0.5, 'CA')"
      ]
     },
     "execution_count": 28,
     "metadata": {},
     "output_type": "execute_result"
    },
    {
     "data": {
      "image/png": "[encoded data removed]",
      "text/plain": [
       "<Figure size 864x720 with 1 Axes>"
      ]
     },
     "metadata": {
      "needs_background": "light"
     },
     "output_type": "display_data"
    }
   ],
   "source": [
    "# Repérage des cibles client avec un fort potentiel d’ achat -> Montant d'une session par tranche d'age \n",
    "B = dfs.groupby('age').mean().sort_values(by='sales_sum', ascending = False).sales_sum.to_frame()\n",
    "B = B.reset_index()\n",
    "B.columns = ['Age','Depense']\n",
    "x = B.Age\n",
    "y1 = B.Depense\n",
    "plt.figure(figsize=(12,10))\n",
    "plt.scatter(x, y1, c = 'green')\n",
    "plt.title('Panier moyen en CA par session selon âge client, données sur 1 année, (base DFS)', fontsize =22)\n",
    "plt.xlabel('Age', fontsize =22)\n",
    "plt.ylabel('CA', fontsize =22)"
   ]
  },
  {
   "cell_type": "markdown",
   "metadata": {},
   "source": [
    "## <font color=\"#067790\"> Controle qualité des données </font>"
   ]
  },
  {
   "cell_type": "code",
   "execution_count": 17,
   "metadata": {},
   "outputs": [
    {
     "data": {
      "text/plain": [
       "client_id\n",
       "c_2051    2208.71\n",
       "c_6337    2022.40\n",
       "c_5800    1964.00\n",
       "c_6696    1921.09\n",
       "c_3918    1898.72\n",
       "Name: sales_sum, dtype: float64"
      ]
     },
     "execution_count": 17,
     "metadata": {},
     "output_type": "execute_result"
    }
   ],
   "source": [
    "# Vérifier si 18 ans est un outlier --> NO \n",
    "dfs[(dfs.age ==18)].groupby('client_id').sum().sales_sum.sort_values(ascending = False).head()"
   ]
  },
  {
   "cell_type": "code",
   "execution_count": 18,
   "metadata": {},
   "outputs": [
    {
     "data": {
      "text/plain": [
       "client_id\n",
       "c_4958    146539.12\n",
       "c_4687      1586.50\n",
       "c_1626      1437.09\n",
       "c_4971      1404.78\n",
       "c_7351      1401.64\n",
       "Name: sales_sum, dtype: float64"
      ]
     },
     "execution_count": 18,
     "metadata": {},
     "output_type": "execute_result"
    }
   ],
   "source": [
    "# Vérifier si 23 ans est un outlier --> YES\n",
    "dfs[(dfs.age ==23)].groupby('client_id').sum().sales_sum.sort_values(ascending = False).head()"
   ]
  },
  {
   "cell_type": "code",
   "execution_count": 19,
   "metadata": {},
   "outputs": [
    {
     "data": {
      "text/plain": [
       "client_id\n",
       "c_1609    164465.47\n",
       "c_3725      2450.38\n",
       "c_760       2425.65\n",
       "c_1413      2399.56\n",
       "c_2284      2386.31\n",
       "Name: sales_sum, dtype: float64"
      ]
     },
     "execution_count": 19,
     "metadata": {},
     "output_type": "execute_result"
    }
   ],
   "source": [
    "# Vérifier si 42 ans est un outlier --> YES\n",
    "dfs[(dfs.age ==42)].groupby('client_id').sum().sales_sum.sort_values(ascending = False).head()"
   ]
  },
  {
   "cell_type": "code",
   "execution_count": 20,
   "metadata": {},
   "outputs": [
    {
     "data": {
      "text/plain": [
       "client_id\n",
       "c_8383    1725.75\n",
       "c_4282    1419.09\n",
       "c_7924    1364.97\n",
       "c_4825    1363.08\n",
       "c_848     1340.59\n",
       "Name: sales_sum, dtype: float64"
      ]
     },
     "execution_count": 20,
     "metadata": {},
     "output_type": "execute_result"
    }
   ],
   "source": [
    "# Vérifier si 43 ans est un outlier --> NO\n",
    "dfs[(dfs.age ==51)].groupby('client_id').sum().sales_sum.sort_values(ascending = False).head()"
   ]
  },
  {
   "cell_type": "code",
   "execution_count": 31,
   "metadata": {},
   "outputs": [],
   "source": [
    "# Cette liste d'outliers est enrichie tout au long de l'analyse\n",
    "outliers = ['c_1609','c_4958','c_6714','c_3454']"
   ]
  },
  {
   "cell_type": "markdown",
   "metadata": {},
   "source": [
    "### [1.1.1 Profil de consommation des B to B](#sommaire)\n",
    "<a id=\"btob\" a>"
   ]
  },
  {
   "cell_type": "code",
   "execution_count": 64,
   "metadata": {},
   "outputs": [
    {
     "data": {
      "text/html": [
       "<div>\n",
       "<style scoped>\n",
       "    .dataframe tbody tr th:only-of-type {\n",
       "        vertical-align: middle;\n",
       "    }\n",
       "\n",
       "    .dataframe tbody tr th {\n",
       "        vertical-align: top;\n",
       "    }\n",
       "\n",
       "    .dataframe thead th {\n",
       "        text-align: right;\n",
       "    }\n",
       "</style>\n",
       "<table border=\"1\" class=\"dataframe\">\n",
       "  <thead>\n",
       "    <tr style=\"text-align: right;\">\n",
       "      <th></th>\n",
       "      <th>Segment</th>\n",
       "      <th>Volume_client</th>\n",
       "      <th>Panier_moyen</th>\n",
       "      <th>Fréquence_achat</th>\n",
       "      <th>Nombre_sessions_générées</th>\n",
       "      <th>Valeur_annuelle_client</th>\n",
       "      <th>Proportion_femmes</th>\n",
       "      <th>Contribution CA</th>\n",
       "    </tr>\n",
       "  </thead>\n",
       "  <tbody>\n",
       "  </tbody>\n",
       "</table>\n",
       "</div>"
      ],
      "text/plain": [
       "Empty DataFrame\n",
       "Columns: [Segment, Volume_client, Panier_moyen, Fréquence_achat, Nombre_sessions_générées, Valeur_annuelle_client, Proportion_femmes, Contribution CA]\n",
       "Index: []"
      ]
     },
     "execution_count": 64,
     "metadata": {},
     "output_type": "execute_result"
    }
   ],
   "source": [
    "profil_conso = pd.DataFrame(columns = ['Segment','Volume_client',\n",
    "                        'Panier_moyen',\n",
    "                        'Fréquence_achat',\n",
    "                        'Nombre_sessions_générées',\n",
    "                        'Valeur_annuelle_client',\n",
    "                        'Proportion_femmes',\n",
    "                        'Contribution CA'])\n",
    "profil_conso"
   ]
  },
  {
   "cell_type": "code",
   "execution_count": 75,
   "metadata": {},
   "outputs": [],
   "source": [
    "# 1. Volume client\n",
    "Volume_client_b2b = len(outliers)\n",
    "\n",
    "# 2. Panier moyen B to B\n",
    "Panier_moyen_b2b = round(dfs[dfs['client_id'].isin(set(outliers))].sales_sum.mean(),2)\n",
    "\n",
    "# 3. Fréquence achat (moyenne anuelle de sessions) B to B\n",
    "Fréquence_achat_b2b = round((dfs[dfs['client_id'].isin(set(outliers))].groupby('client_id').agg({'session_id':'count'}).mean()),1)[0]\n",
    "\n",
    "# 4. Nombre de sessions générées à l’année B to B\n",
    "Nombre_sessions_générées_b2b = round((dfs[dfs['client_id'].isin(set(outliers))].groupby('client_id').agg({'session_id':'count'}).sum()),1)[0]\n",
    "\n",
    "# 5. Valeur client annuelle B to B\n",
    "Valeur_annuelle_client_b2b = (dfs[dfs['client_id'].isin(set(outliers))].sales_sum.mean()) * (dfs[dfs['client_id'].isin(set(outliers))].groupby('client_id').agg({'session_id':'count'}).mean())[0]\n",
    "\n",
    "# 6. Proportion de femmes\n",
    "Proportion_femmes_b2b = 50.00\n",
    "\n",
    "# 7. Contributuon au CA B to B\n",
    "Contribution_CA_b2b = round((df[df['client_id'].isin(set(outliers))].price.sum()*100/df.price.sum()),2)\n",
    "\n",
    "\n",
    "profil_conso.loc[0] = ['Clients B to B',\n",
    "                       Volume_client_b2b,\n",
    "                       Panier_moyen_b2b,\n",
    "                       Fréquence_achat_b2b,\n",
    "                       Nombre_sessions_générées_b2b,\n",
    "                       Valeur_annuelle_client_b2b,\n",
    "                       Proportion_femmes_b2b,\n",
    "                       Contribution_CA_b2b]"
   ]
  },
  {
   "cell_type": "code",
   "execution_count": 71,
   "metadata": {},
   "outputs": [
    {
     "data": {
      "text/plain": [
       "<matplotlib.legend.Legend at 0x1a27420290>"
      ]
     },
     "execution_count": 71,
     "metadata": {},
     "output_type": "execute_result"
    },
    {
     "data": {
      "image/png": "[encoded data removed]",
      "text/plain": [
       "<Figure size 864x720 with 1 Axes>"
      ]
     },
     "metadata": {},
     "output_type": "display_data"
    }
   ],
   "source": [
    "# Poids des catégories sur les ventes des B to B\n",
    "cat_BtoB = df[df['client_id'].isin(outliers)].groupby('categ').sum().price.reset_index()\n",
    "\n",
    "plt.figure(figsize=(12,10))\n",
    "plt.pie(cat_BtoB.price,\n",
    "        labels=['Catégorie 0','Catégorie 1','Catégorie 2'],\n",
    "        colors = ['#FFC222','#05aec0','#fb7465'],\n",
    "        autopct = lambda x: str(round(x, 2)) + '%',\n",
    "        pctdistance = 0.5)\n",
    "plt.legend(bbox_to_anchor = (1, 1), loc = 'lower center', \n",
    "           prop = {'size': 10}, \n",
    "           title ='B to B : répartition du CA selon les catégories')"
   ]
  },
  {
   "cell_type": "code",
   "execution_count": 72,
   "metadata": {},
   "outputs": [],
   "source": [
    "# Dataframe sans outliers\n",
    "dfs_SO = dfs[~dfs['client_id'].isin(set(outliers))]\n",
    "df_SO = df[~df['client_id'].isin(set(outliers))]"
   ]
  },
  {
   "cell_type": "markdown",
   "metadata": {},
   "source": [
    "### [1.1.2 Profil de consommation des juniors, cad - de 30 ans](#sommaire)\n",
    "<a id=\"junior\" a>"
   ]
  },
  {
   "cell_type": "code",
   "execution_count": 73,
   "metadata": {},
   "outputs": [
    {
     "data": {
      "text/html": [
       "<div>\n",
       "<style scoped>\n",
       "    .dataframe tbody tr th:only-of-type {\n",
       "        vertical-align: middle;\n",
       "    }\n",
       "\n",
       "    .dataframe tbody tr th {\n",
       "        vertical-align: top;\n",
       "    }\n",
       "\n",
       "    .dataframe thead th {\n",
       "        text-align: right;\n",
       "    }\n",
       "</style>\n",
       "<table border=\"1\" class=\"dataframe\">\n",
       "  <thead>\n",
       "    <tr style=\"text-align: right;\">\n",
       "      <th></th>\n",
       "      <th>session_id</th>\n",
       "      <th>sales_count</th>\n",
       "      <th>sales_sum</th>\n",
       "      <th>client_id</th>\n",
       "      <th>year</th>\n",
       "      <th>month</th>\n",
       "      <th>age</th>\n",
       "      <th>sex</th>\n",
       "    </tr>\n",
       "  </thead>\n",
       "  <tbody>\n",
       "    <tr>\n",
       "      <th>0</th>\n",
       "      <td>s_118668</td>\n",
       "      <td>14</td>\n",
       "      <td>264.99</td>\n",
       "      <td>c_5995</td>\n",
       "      <td>2021</td>\n",
       "      <td>11</td>\n",
       "      <td>30</td>\n",
       "      <td>f</td>\n",
       "    </tr>\n",
       "    <tr>\n",
       "      <th>5</th>\n",
       "      <td>s_141902</td>\n",
       "      <td>11</td>\n",
       "      <td>192.20</td>\n",
       "      <td>c_317</td>\n",
       "      <td>2021</td>\n",
       "      <td>12</td>\n",
       "      <td>24</td>\n",
       "      <td>f</td>\n",
       "    </tr>\n",
       "    <tr>\n",
       "      <th>6</th>\n",
       "      <td>s_137262</td>\n",
       "      <td>11</td>\n",
       "      <td>160.36</td>\n",
       "      <td>c_4797</td>\n",
       "      <td>2021</td>\n",
       "      <td>12</td>\n",
       "      <td>18</td>\n",
       "      <td>m</td>\n",
       "    </tr>\n",
       "    <tr>\n",
       "      <th>9</th>\n",
       "      <td>s_118390</td>\n",
       "      <td>11</td>\n",
       "      <td>193.41</td>\n",
       "      <td>c_7467</td>\n",
       "      <td>2021</td>\n",
       "      <td>11</td>\n",
       "      <td>22</td>\n",
       "      <td>m</td>\n",
       "    </tr>\n",
       "    <tr>\n",
       "      <th>14</th>\n",
       "      <td>s_155361</td>\n",
       "      <td>11</td>\n",
       "      <td>177.62</td>\n",
       "      <td>c_6215</td>\n",
       "      <td>2022</td>\n",
       "      <td>1</td>\n",
       "      <td>28</td>\n",
       "      <td>f</td>\n",
       "    </tr>\n",
       "  </tbody>\n",
       "</table>\n",
       "</div>"
      ],
      "text/plain": [
       "   session_id  sales_count  sales_sum client_id  year  month  age sex\n",
       "0    s_118668           14     264.99    c_5995  2021     11   30   f\n",
       "5    s_141902           11     192.20     c_317  2021     12   24   f\n",
       "6    s_137262           11     160.36    c_4797  2021     12   18   m\n",
       "9    s_118390           11     193.41    c_7467  2021     11   22   m\n",
       "14   s_155361           11     177.62    c_6215  2022      1   28   f"
      ]
     },
     "execution_count": 73,
     "metadata": {},
     "output_type": "execute_result"
    }
   ],
   "source": [
    "# Dataframe sur les juniors (exclusion des outliers)\n",
    "dfs_30ans = dfs_SO[dfs_SO.age <=30]\n",
    "dfs_30ans.head()"
   ]
  },
  {
   "cell_type": "code",
   "execution_count": 82,
   "metadata": {},
   "outputs": [
    {
     "data": {
      "text/html": [
       "<div>\n",
       "<style scoped>\n",
       "    .dataframe tbody tr th:only-of-type {\n",
       "        vertical-align: middle;\n",
       "    }\n",
       "\n",
       "    .dataframe tbody tr th {\n",
       "        vertical-align: top;\n",
       "    }\n",
       "\n",
       "    .dataframe thead th {\n",
       "        text-align: right;\n",
       "    }\n",
       "</style>\n",
       "<table border=\"1\" class=\"dataframe\">\n",
       "  <thead>\n",
       "    <tr style=\"text-align: right;\">\n",
       "      <th></th>\n",
       "      <th>Segment</th>\n",
       "      <th>Volume_client</th>\n",
       "      <th>Panier_moyen</th>\n",
       "      <th>Fréquence_achat</th>\n",
       "      <th>Nombre_sessions_générées</th>\n",
       "      <th>Valeur_annuelle_client</th>\n",
       "      <th>Proportion_femmes</th>\n",
       "      <th>Contribution CA</th>\n",
       "    </tr>\n",
       "  </thead>\n",
       "  <tbody>\n",
       "    <tr>\n",
       "      <th>0</th>\n",
       "      <td>Clients B to B</td>\n",
       "      <td>4</td>\n",
       "      <td>38.12</td>\n",
       "      <td>2848.0</td>\n",
       "      <td>11392</td>\n",
       "      <td>108560</td>\n",
       "      <td>50.00</td>\n",
       "      <td>7.48</td>\n",
       "    </tr>\n",
       "    <tr>\n",
       "      <th>1</th>\n",
       "      <td>Clients de moins de 30 ans</td>\n",
       "      <td>2266</td>\n",
       "      <td>70.60</td>\n",
       "      <td>9.1</td>\n",
       "      <td>20616</td>\n",
       "      <td>642.46</td>\n",
       "      <td>52.02</td>\n",
       "      <td>25.09</td>\n",
       "    </tr>\n",
       "    <tr>\n",
       "      <th>2</th>\n",
       "      <td>Clients de 31 à 50 ans</td>\n",
       "      <td>3365</td>\n",
       "      <td>31.60</td>\n",
       "      <td>24.2</td>\n",
       "      <td>81265</td>\n",
       "      <td>764.72</td>\n",
       "      <td>51.49</td>\n",
       "      <td>44.30</td>\n",
       "    </tr>\n",
       "  </tbody>\n",
       "</table>\n",
       "</div>"
      ],
      "text/plain": [
       "                      Segment Volume_client  Panier_moyen  Fréquence_achat  \\\n",
       "0              Clients B to B             4         38.12           2848.0   \n",
       "1  Clients de moins de 30 ans          2266         70.60              9.1   \n",
       "2      Clients de 31 à 50 ans          3365         31.60             24.2   \n",
       "\n",
       "  Nombre_sessions_générées Valeur_annuelle_client  Proportion_femmes  \\\n",
       "0                    11392                 108560              50.00   \n",
       "1                    20616                 642.46              52.02   \n",
       "2                    81265                 764.72              51.49   \n",
       "\n",
       "   Contribution CA  \n",
       "0             7.48  \n",
       "1            25.09  \n",
       "2            44.30  "
      ]
     },
     "execution_count": 82,
     "metadata": {},
     "output_type": "execute_result"
    }
   ],
   "source": [
    "# 1. Volume client\n",
    "Volume_client_30 = dfs_30ans.groupby('client_id').count().count().session_id\n",
    "\n",
    "# 2. Panier moyen \n",
    "Panier_moyen_30 = round((dfs_30ans.sales_sum.mean()),1)\n",
    "\n",
    "# 3. Fréquence achat (moyenne anuelle de sessions)\n",
    "Fréquence_achat_30 = round((dfs_30ans.groupby('client_id').agg({'session_id':'count'}).mean()),1)[0]\n",
    "\n",
    "# 4. Nombre de sessions générées à l’année \n",
    "Nombre_sessions_générées_30 = round((dfs_30ans.groupby('client_id').agg({'session_id':'count'}).sum()),1)[0]\n",
    "\n",
    "# 5. Valeur client annuelle \n",
    "Valeur_annuelle_client_30 = round((dfs_30ans.sales_sum.mean()),1) * round((dfs_30ans.groupby('client_id').agg({'session_id':'count'}).mean()),1)[0]\n",
    "\n",
    "# 6. Contributuon au CA \n",
    "Proportion_femmes_30 = round((dfs_30ans.groupby('sex').count().client_id *100/ len(dfs_30ans)),2)[0]\n",
    "\n",
    "# 7. Contributuon au CA \n",
    "Contribution_CA_30 = round((dfs_30ans.sales_sum.sum()*100 / dfs.sales_sum.sum()),2)\n",
    "\n",
    "profil_conso.loc[1] = ['Clients de moins de 30 ans',\n",
    "                       Volume_client_30,\n",
    "                       Panier_moyen_30,\n",
    "                       Fréquence_achat_30,\n",
    "                       Nombre_sessions_générées_30,\n",
    "                       Valeur_annuelle_client_30,\n",
    "                       Proportion_femmes_30,\n",
    "                       Contribution_CA_30]\n",
    "\n",
    "profil_conso"
   ]
  },
  {
   "cell_type": "code",
   "execution_count": 78,
   "metadata": {},
   "outputs": [
    {
     "data": {
      "text/plain": [
       "<matplotlib.legend.Legend at 0x1a273d2f50>"
      ]
     },
     "execution_count": 78,
     "metadata": {},
     "output_type": "execute_result"
    },
    {
     "data": {
      "image/png": "[encoded data removed]",
      "text/plain": [
       "<Figure size 864x720 with 1 Axes>"
      ]
     },
     "metadata": {},
     "output_type": "display_data"
    }
   ],
   "source": [
    "# 8. Quelles sont les catégories privilégiées des clients de - de 30 ans ?\n",
    "cat_30ans = df[df['client_id'].isin(set(dfs_30ans.client_id))].groupby('categ').count().id_prod.reset_index()\n",
    "total_cat_30ans = cat_30ans.id_prod *100 /cat_30ans.id_prod.sum()\n",
    "total_cat_30ans = round(total_cat_30ans,2)\n",
    "cat_30ans = cat_30ans.join(total_cat_30ans,lsuffix='effectif')\n",
    "\n",
    "plt.figure(figsize=(12,10))\n",
    "plt.pie(cat_30ans['id_prodeffectif'],\n",
    "        labels=['Catégorie 0','Catégorie 1','Catégorie 2'],\n",
    "        colors = ['#FFC222','#05aec0','#fb7465'],\n",
    "        autopct = lambda x: str(round(x, 2)) + '%',\n",
    "        pctdistance = 0.5)\n",
    "plt.legend(bbox_to_anchor = (1, 1), loc = 'lower center', prop = {'size': 10},title ='Moins de 30 ans : répartition du CA selon les catégories')"
   ]
  },
  {
   "cell_type": "markdown",
   "metadata": {},
   "source": [
    "### [1.1.3 Profil de consommation des clients middle age, cad de 31 de 50 ans](#sommaire)\n",
    "<a id=\"middleage\" a>"
   ]
  },
  {
   "cell_type": "code",
   "execution_count": 79,
   "metadata": {},
   "outputs": [
    {
     "data": {
      "text/html": [
       "<div>\n",
       "<style scoped>\n",
       "    .dataframe tbody tr th:only-of-type {\n",
       "        vertical-align: middle;\n",
       "    }\n",
       "\n",
       "    .dataframe tbody tr th {\n",
       "        vertical-align: top;\n",
       "    }\n",
       "\n",
       "    .dataframe thead th {\n",
       "        text-align: right;\n",
       "    }\n",
       "</style>\n",
       "<table border=\"1\" class=\"dataframe\">\n",
       "  <thead>\n",
       "    <tr style=\"text-align: right;\">\n",
       "      <th></th>\n",
       "      <th>session_id</th>\n",
       "      <th>sales_count</th>\n",
       "      <th>sales_sum</th>\n",
       "      <th>client_id</th>\n",
       "      <th>year</th>\n",
       "      <th>month</th>\n",
       "      <th>age</th>\n",
       "      <th>sex</th>\n",
       "    </tr>\n",
       "  </thead>\n",
       "  <tbody>\n",
       "    <tr>\n",
       "      <th>2</th>\n",
       "      <td>s_21005</td>\n",
       "      <td>13</td>\n",
       "      <td>162.20</td>\n",
       "      <td>c_8303</td>\n",
       "      <td>2021</td>\n",
       "      <td>4</td>\n",
       "      <td>32</td>\n",
       "      <td>m</td>\n",
       "    </tr>\n",
       "    <tr>\n",
       "      <th>3</th>\n",
       "      <td>s_168560</td>\n",
       "      <td>12</td>\n",
       "      <td>182.24</td>\n",
       "      <td>c_7855</td>\n",
       "      <td>2022</td>\n",
       "      <td>2</td>\n",
       "      <td>32</td>\n",
       "      <td>f</td>\n",
       "    </tr>\n",
       "    <tr>\n",
       "      <th>4</th>\n",
       "      <td>s_93892</td>\n",
       "      <td>12</td>\n",
       "      <td>130.58</td>\n",
       "      <td>c_8127</td>\n",
       "      <td>2021</td>\n",
       "      <td>9</td>\n",
       "      <td>34</td>\n",
       "      <td>f</td>\n",
       "    </tr>\n",
       "    <tr>\n",
       "      <th>8</th>\n",
       "      <td>s_86536</td>\n",
       "      <td>11</td>\n",
       "      <td>130.46</td>\n",
       "      <td>c_8286</td>\n",
       "      <td>2021</td>\n",
       "      <td>9</td>\n",
       "      <td>42</td>\n",
       "      <td>f</td>\n",
       "    </tr>\n",
       "    <tr>\n",
       "      <th>11</th>\n",
       "      <td>s_3533</td>\n",
       "      <td>11</td>\n",
       "      <td>232.30</td>\n",
       "      <td>c_7027</td>\n",
       "      <td>2021</td>\n",
       "      <td>3</td>\n",
       "      <td>41</td>\n",
       "      <td>f</td>\n",
       "    </tr>\n",
       "  </tbody>\n",
       "</table>\n",
       "</div>"
      ],
      "text/plain": [
       "   session_id  sales_count  sales_sum client_id  year  month  age sex\n",
       "2     s_21005           13     162.20    c_8303  2021      4   32   m\n",
       "3    s_168560           12     182.24    c_7855  2022      2   32   f\n",
       "4     s_93892           12     130.58    c_8127  2021      9   34   f\n",
       "8     s_86536           11     130.46    c_8286  2021      9   42   f\n",
       "11     s_3533           11     232.30    c_7027  2021      3   41   f"
      ]
     },
     "execution_count": 79,
     "metadata": {},
     "output_type": "execute_result"
    }
   ],
   "source": [
    "# # Dataframe sur middle age (exclusion des outliers)\n",
    "dfs_31_50ans = dfs_SO[(dfs_SO.age >30) & (dfs_SO.age <=50)]\n",
    "dfs_31_50ans.head()"
   ]
  },
  {
   "cell_type": "code",
   "execution_count": 83,
   "metadata": {},
   "outputs": [
    {
     "data": {
      "text/html": [
       "<div>\n",
       "<style scoped>\n",
       "    .dataframe tbody tr th:only-of-type {\n",
       "        vertical-align: middle;\n",
       "    }\n",
       "\n",
       "    .dataframe tbody tr th {\n",
       "        vertical-align: top;\n",
       "    }\n",
       "\n",
       "    .dataframe thead th {\n",
       "        text-align: right;\n",
       "    }\n",
       "</style>\n",
       "<table border=\"1\" class=\"dataframe\">\n",
       "  <thead>\n",
       "    <tr style=\"text-align: right;\">\n",
       "      <th></th>\n",
       "      <th>Segment</th>\n",
       "      <th>Volume_client</th>\n",
       "      <th>Panier_moyen</th>\n",
       "      <th>Fréquence_achat</th>\n",
       "      <th>Nombre_sessions_générées</th>\n",
       "      <th>Valeur_annuelle_client</th>\n",
       "      <th>Proportion_femmes</th>\n",
       "      <th>Contribution CA</th>\n",
       "    </tr>\n",
       "  </thead>\n",
       "  <tbody>\n",
       "    <tr>\n",
       "      <th>0</th>\n",
       "      <td>Clients B to B</td>\n",
       "      <td>4</td>\n",
       "      <td>38.12</td>\n",
       "      <td>2848.0</td>\n",
       "      <td>11392</td>\n",
       "      <td>108560</td>\n",
       "      <td>50.00</td>\n",
       "      <td>7.48</td>\n",
       "    </tr>\n",
       "    <tr>\n",
       "      <th>1</th>\n",
       "      <td>Clients de moins de 30 ans</td>\n",
       "      <td>2266</td>\n",
       "      <td>70.60</td>\n",
       "      <td>9.1</td>\n",
       "      <td>20616</td>\n",
       "      <td>642.46</td>\n",
       "      <td>52.02</td>\n",
       "      <td>25.09</td>\n",
       "    </tr>\n",
       "    <tr>\n",
       "      <th>2</th>\n",
       "      <td>Clients de 31 à 50 ans</td>\n",
       "      <td>3365</td>\n",
       "      <td>31.60</td>\n",
       "      <td>24.2</td>\n",
       "      <td>81265</td>\n",
       "      <td>764.72</td>\n",
       "      <td>51.49</td>\n",
       "      <td>44.30</td>\n",
       "    </tr>\n",
       "  </tbody>\n",
       "</table>\n",
       "</div>"
      ],
      "text/plain": [
       "                      Segment Volume_client  Panier_moyen  Fréquence_achat  \\\n",
       "0              Clients B to B             4         38.12           2848.0   \n",
       "1  Clients de moins de 30 ans          2266         70.60              9.1   \n",
       "2      Clients de 31 à 50 ans          3365         31.60             24.2   \n",
       "\n",
       "  Nombre_sessions_générées Valeur_annuelle_client  Proportion_femmes  \\\n",
       "0                    11392                 108560              50.00   \n",
       "1                    20616                 642.46              52.02   \n",
       "2                    81265                 764.72              51.49   \n",
       "\n",
       "   Contribution CA  \n",
       "0             7.48  \n",
       "1            25.09  \n",
       "2            44.30  "
      ]
     },
     "execution_count": 83,
     "metadata": {},
     "output_type": "execute_result"
    }
   ],
   "source": [
    "# 1. Volume client\n",
    "Volume_client_31_50 = dfs_31_50ans.groupby('client_id').count().count().session_id\n",
    "\n",
    "# 2. Panier moyen B to B\n",
    "Panier_moyen_31_50 = round((dfs_31_50ans.sales_sum.mean()),1)\n",
    "\n",
    "# 3. Fréquence achat (moyenne anuelle de sessions) \n",
    "Fréquence_achat_31_50 = round((dfs_31_50ans.groupby('client_id').agg({'session_id':'count'}).mean()),1)[0]\n",
    "\n",
    "# 4. Nombre de sessions générées à l’année B to B\n",
    "Nombre_sessions_générées_31_50 = round((dfs_31_50ans.groupby('client_id').agg({'session_id':'count'}).sum()),1)[0]\n",
    "\n",
    "# 5. Valeur client annuelle B to B\n",
    "Valeur_annuelle_client_31_50 = round((dfs_31_50ans.sales_sum.mean()),1) * round((dfs_31_50ans.groupby('client_id').agg({'session_id':'count'}).mean()),1)[0]\n",
    "\n",
    "# 6. Contributuon au CA B to B\n",
    "Proportion_femmes_31_50 = round((dfs_31_50ans.groupby('sex').count().client_id *100/ len(dfs_31_50ans)),2)[0]\n",
    "\n",
    "# 7. Contributuon au CA annuel junior\n",
    "Contribution_CA_31_50 = round((dfs_31_50ans.sales_sum.sum()*100 / dfs.sales_sum.sum()),2)\n",
    "\n",
    "profil_conso.loc[2] = ['Clients de 31 à 50 ans',\n",
    "                       Volume_client_31_50,\n",
    "                       Panier_moyen_31_50,\n",
    "                       Fréquence_achat_31_50,\n",
    "                       Nombre_sessions_générées_31_50,\n",
    "                       Valeur_annuelle_client_31_50,\n",
    "                       Proportion_femmes_31_50,\n",
    "                       Contribution_CA_31_50]\n",
    "\n",
    "profil_conso"
   ]
  },
  {
   "cell_type": "code",
   "execution_count": 84,
   "metadata": {},
   "outputs": [
    {
     "data": {
      "text/plain": [
       "<matplotlib.legend.Legend at 0x1a25c4f090>"
      ]
     },
     "execution_count": 84,
     "metadata": {},
     "output_type": "execute_result"
    },
    {
     "data": {
      "image/png": "[encoded data removed]",
      "text/plain": [
       "<Figure size 864x720 with 1 Axes>"
      ]
     },
     "metadata": {},
     "output_type": "display_data"
    }
   ],
   "source": [
    "# Quelles sont les catégories privilégiées des clients entre 30ans et 50ans ?\n",
    "cat_31_50ans = df[df['client_id'].isin(set(dfs_31_50ans.client_id))].groupby('categ').count().id_prod.reset_index()\n",
    "total_cat_31_50ans = cat_31_50ans.id_prod *100 /cat_31_50ans.id_prod.sum()\n",
    "total_cat_31_50ans = round(total_cat_31_50ans,2)\n",
    "cat_31_50ans = cat_31_50ans.join(total_cat_31_50ans,lsuffix='effectif')\n",
    "cat_31_50ans\n",
    "\n",
    "\n",
    "# Poids des catégories sur les ventes de 31 à 50 ans\n",
    "plt.figure(figsize=(12,10))\n",
    "\n",
    "plt.pie(cat_31_50ans['id_prodeffectif'],\n",
    "        labels=['Categ 0','Categ 1','Categ 2'],\n",
    "        colors = ['#FFC222','#05aec0','#fb7465'],\n",
    "        autopct = lambda x: str(round(x, 2)) + '%',\n",
    "        pctdistance = 0.5)\n",
    "plt.legend(bbox_to_anchor = (1, 1), loc = 'lower center', prop = {'size': 10},title ='Middle age 31-50ans : répartition du CA selon les catégories')\n"
   ]
  },
  {
   "cell_type": "markdown",
   "metadata": {},
   "source": [
    "### [1.1.4 Profil de consommation des clients seniors, cad + de 51 ans ](#sommaire)\n",
    "<a id=\"senior\" a>"
   ]
  },
  {
   "cell_type": "code",
   "execution_count": 85,
   "metadata": {},
   "outputs": [
    {
     "data": {
      "text/html": [
       "<div>\n",
       "<style scoped>\n",
       "    .dataframe tbody tr th:only-of-type {\n",
       "        vertical-align: middle;\n",
       "    }\n",
       "\n",
       "    .dataframe tbody tr th {\n",
       "        vertical-align: top;\n",
       "    }\n",
       "\n",
       "    .dataframe thead th {\n",
       "        text-align: right;\n",
       "    }\n",
       "</style>\n",
       "<table border=\"1\" class=\"dataframe\">\n",
       "  <thead>\n",
       "    <tr style=\"text-align: right;\">\n",
       "      <th></th>\n",
       "      <th>session_id</th>\n",
       "      <th>sales_count</th>\n",
       "      <th>sales_sum</th>\n",
       "      <th>client_id</th>\n",
       "      <th>year</th>\n",
       "      <th>month</th>\n",
       "      <th>age</th>\n",
       "      <th>sex</th>\n",
       "    </tr>\n",
       "  </thead>\n",
       "  <tbody>\n",
       "    <tr>\n",
       "      <th>1</th>\n",
       "      <td>s_96857</td>\n",
       "      <td>13</td>\n",
       "      <td>277.31</td>\n",
       "      <td>c_5523</td>\n",
       "      <td>2021</td>\n",
       "      <td>9</td>\n",
       "      <td>52</td>\n",
       "      <td>f</td>\n",
       "    </tr>\n",
       "    <tr>\n",
       "      <th>10</th>\n",
       "      <td>s_36768</td>\n",
       "      <td>11</td>\n",
       "      <td>177.80</td>\n",
       "      <td>c_3212</td>\n",
       "      <td>2021</td>\n",
       "      <td>5</td>\n",
       "      <td>67</td>\n",
       "      <td>f</td>\n",
       "    </tr>\n",
       "    <tr>\n",
       "      <th>13</th>\n",
       "      <td>s_136877</td>\n",
       "      <td>11</td>\n",
       "      <td>138.89</td>\n",
       "      <td>c_7301</td>\n",
       "      <td>2021</td>\n",
       "      <td>12</td>\n",
       "      <td>54</td>\n",
       "      <td>f</td>\n",
       "    </tr>\n",
       "    <tr>\n",
       "      <th>18</th>\n",
       "      <td>s_112803</td>\n",
       "      <td>11</td>\n",
       "      <td>147.55</td>\n",
       "      <td>c_8012</td>\n",
       "      <td>2021</td>\n",
       "      <td>10</td>\n",
       "      <td>79</td>\n",
       "      <td>m</td>\n",
       "    </tr>\n",
       "    <tr>\n",
       "      <th>19</th>\n",
       "      <td>s_21641</td>\n",
       "      <td>11</td>\n",
       "      <td>180.75</td>\n",
       "      <td>c_7924</td>\n",
       "      <td>2021</td>\n",
       "      <td>4</td>\n",
       "      <td>51</td>\n",
       "      <td>f</td>\n",
       "    </tr>\n",
       "  </tbody>\n",
       "</table>\n",
       "</div>"
      ],
      "text/plain": [
       "   session_id  sales_count  sales_sum client_id  year  month  age sex\n",
       "1     s_96857           13     277.31    c_5523  2021      9   52   f\n",
       "10    s_36768           11     177.80    c_3212  2021      5   67   f\n",
       "13   s_136877           11     138.89    c_7301  2021     12   54   f\n",
       "18   s_112803           11     147.55    c_8012  2021     10   79   m\n",
       "19    s_21641           11     180.75    c_7924  2021      4   51   f"
      ]
     },
     "execution_count": 85,
     "metadata": {},
     "output_type": "execute_result"
    }
   ],
   "source": [
    "# Dataframe sur plus de 50 ans (exclusion des outliers)\n",
    "dfs_50ans = dfs_SO[(dfs_SO.age >50)]\n",
    "dfs_50ans.head()"
   ]
  },
  {
   "cell_type": "code",
   "execution_count": 87,
   "metadata": {},
   "outputs": [
    {
     "data": {
      "text/html": [
       "<div>\n",
       "<style scoped>\n",
       "    .dataframe tbody tr th:only-of-type {\n",
       "        vertical-align: middle;\n",
       "    }\n",
       "\n",
       "    .dataframe tbody tr th {\n",
       "        vertical-align: top;\n",
       "    }\n",
       "\n",
       "    .dataframe thead th {\n",
       "        text-align: right;\n",
       "    }\n",
       "</style>\n",
       "<table border=\"1\" class=\"dataframe\">\n",
       "  <thead>\n",
       "    <tr style=\"text-align: right;\">\n",
       "      <th></th>\n",
       "      <th>Segment</th>\n",
       "      <th>Volume_client</th>\n",
       "      <th>Panier_moyen</th>\n",
       "      <th>Fréquence_achat</th>\n",
       "      <th>Nombre_sessions_générées</th>\n",
       "      <th>Valeur_annuelle_client</th>\n",
       "      <th>Proportion_femmes</th>\n",
       "      <th>Contribution CA</th>\n",
       "    </tr>\n",
       "  </thead>\n",
       "  <tbody>\n",
       "    <tr>\n",
       "      <th>0</th>\n",
       "      <td>Clients B to B</td>\n",
       "      <td>4</td>\n",
       "      <td>38.12</td>\n",
       "      <td>2848.0</td>\n",
       "      <td>11392</td>\n",
       "      <td>108560</td>\n",
       "      <td>50.00</td>\n",
       "      <td>7.48</td>\n",
       "    </tr>\n",
       "    <tr>\n",
       "      <th>1</th>\n",
       "      <td>Clients de moins de 30 ans</td>\n",
       "      <td>2266</td>\n",
       "      <td>70.60</td>\n",
       "      <td>9.1</td>\n",
       "      <td>20616</td>\n",
       "      <td>642.46</td>\n",
       "      <td>52.02</td>\n",
       "      <td>25.09</td>\n",
       "    </tr>\n",
       "    <tr>\n",
       "      <th>2</th>\n",
       "      <td>Clients de 31 à 50 ans</td>\n",
       "      <td>3365</td>\n",
       "      <td>31.60</td>\n",
       "      <td>24.2</td>\n",
       "      <td>81265</td>\n",
       "      <td>764.72</td>\n",
       "      <td>51.49</td>\n",
       "      <td>44.3</td>\n",
       "    </tr>\n",
       "    <tr>\n",
       "      <th>3</th>\n",
       "      <td>Clients de plus de 50 ans</td>\n",
       "      <td>2965</td>\n",
       "      <td>24.00</td>\n",
       "      <td>18.9</td>\n",
       "      <td>55972</td>\n",
       "      <td>453.6</td>\n",
       "      <td>53.26</td>\n",
       "      <td>23.13</td>\n",
       "    </tr>\n",
       "  </tbody>\n",
       "</table>\n",
       "</div>"
      ],
      "text/plain": [
       "                      Segment Volume_client  Panier_moyen  Fréquence_achat  \\\n",
       "0              Clients B to B             4         38.12           2848.0   \n",
       "1  Clients de moins de 30 ans          2266         70.60              9.1   \n",
       "2      Clients de 31 à 50 ans          3365         31.60             24.2   \n",
       "3   Clients de plus de 50 ans          2965         24.00             18.9   \n",
       "\n",
       "  Nombre_sessions_générées Valeur_annuelle_client  Proportion_femmes  \\\n",
       "0                    11392                 108560              50.00   \n",
       "1                    20616                 642.46              52.02   \n",
       "2                    81265                 764.72              51.49   \n",
       "3                    55972                  453.6              53.26   \n",
       "\n",
       "  Contribution CA  \n",
       "0            7.48  \n",
       "1           25.09  \n",
       "2            44.3  \n",
       "3           23.13  "
      ]
     },
     "execution_count": 87,
     "metadata": {},
     "output_type": "execute_result"
    }
   ],
   "source": [
    "# 1. Volume client\n",
    "Volume_client_50 = dfs_50ans.groupby('client_id').count().count().session_id\n",
    "\n",
    "# 2. Panier moyen B to B\n",
    "Panier_moyen_50 = round((dfs_50ans.sales_sum.mean()),1)\n",
    "\n",
    "# 3. Fréquence achat (moyenne anuelle de sessions) \n",
    "Fréquence_achat_50 = round((dfs_50ans.groupby('client_id').agg({'session_id':'count'}).mean()),1)[0]\n",
    "\n",
    "# 4. Nombre de sessions générées à l’année B to B\n",
    "Nombre_sessions_générées_50 = round((dfs_50ans.groupby('client_id').agg({'session_id':'count'}).sum()),1)[0]\n",
    "\n",
    "# 5. Valeur client annuelle B to B\n",
    "Valeur_annuelle_client_50 = round((dfs_50ans.sales_sum.mean()),1) * round((dfs_50ans.groupby('client_id').agg({'session_id':'count'}).mean()),1)[0]\n",
    "\n",
    "# 6. Contributuon au CA B to B\n",
    "Proportion_femmes_50 = round((dfs_50ans.groupby('sex').count().client_id *100/ len(dfs_50ans)),2)[0]\n",
    "\n",
    "# 7. Contributuon au CA annuel junior\n",
    "Contribution_CA_50 = round((dfs_50ans.sales_sum.sum()*100 / dfs.sales_sum.sum()),2)\n",
    "\n",
    "profil_conso.loc[3] = ['Clients de plus de 50 ans',\n",
    "                       Volume_client_50,\n",
    "                       Panier_moyen_50,\n",
    "                       Fréquence_achat_50,\n",
    "                       Nombre_sessions_générées_50,\n",
    "                       Valeur_annuelle_client_50,\n",
    "                       Proportion_femmes_50,\n",
    "                       Contribution_CA_50]\n",
    "\n",
    "profil_conso"
   ]
  },
  {
   "cell_type": "code",
   "execution_count": 88,
   "metadata": {},
   "outputs": [
    {
     "data": {
      "text/plain": [
       "<matplotlib.legend.Legend at 0x1a25c20650>"
      ]
     },
     "execution_count": 88,
     "metadata": {},
     "output_type": "execute_result"
    },
    {
     "data": {
      "image/png": "[encoded data removed]",
      "text/plain": [
       "<Figure size 864x720 with 1 Axes>"
      ]
     },
     "metadata": {},
     "output_type": "display_data"
    }
   ],
   "source": [
    "# Quelles sont les catégories privilégiées des clients de plus de 50ans ?\n",
    "cat_50ans = df[df['client_id'].isin(set(dfs_50ans.client_id))].groupby('categ').count().id_prod.reset_index()\n",
    "total_cat_50ans = cat_50ans.id_prod *100 /cat_50ans.id_prod.sum()\n",
    "total_cat_50ans = round(total_cat_50ans,2)\n",
    "cat_50ans = cat_50ans.join(total_cat_50ans,lsuffix='effectif')\n",
    "cat_50ans\n",
    "\n",
    "# Poids des catégories sur les ventes des + de 50 ans\n",
    "plt.figure(figsize=(12,10))\n",
    "plt.pie(cat_50ans['id_prodeffectif'],\n",
    "        labels=['Categ 0','Categ 1','Categ 2'],\n",
    "        colors = ['#FFC222','#05aec0','#fb7465'],\n",
    "        autopct = lambda x: str(round(x, 2)) + '%',\n",
    "        pctdistance = 0.5)\n",
    "plt.legend(bbox_to_anchor = (1, 1), loc = 'lower center', prop = {'size': 10},title ='Plus de 50 ans : répartition du CA selon les catégories')\n"
   ]
  },
  {
   "cell_type": "markdown",
   "metadata": {},
   "source": [
    "### [1.1.5 Focus sur les mauvais clients ](#sommaire)\n",
    "<a id=\"mauvais\" a>"
   ]
  },
  {
   "cell_type": "code",
   "execution_count": 96,
   "metadata": {},
   "outputs": [
    {
     "name": "stdout",
     "output_type": "stream",
     "text": [
      "Clients comptabilisant une session unique : 36\n",
      "Clients comptabilisant seulement 2 sessions : 86\n"
     ]
    }
   ],
   "source": [
    "df_session = df.groupby('client_id').agg({'session_id' : 'count'}).sort_values('session_id', ascending = False)\n",
    "\n",
    "# Client comptabilisant une unique session\n",
    "print('Clients comptabilisant une session unique :', df_session[df_session.session_id == 1].count()[0])\n",
    "print('Clients comptabilisant seulement 2 sessions :', df_session[df_session.session_id == 2].count()[0])"
   ]
  },
  {
   "cell_type": "code",
   "execution_count": 65,
   "metadata": {},
   "outputs": [
    {
     "data": {
      "text/plain": [
       "sex\n",
       "f    11\n",
       "m    10\n",
       "Name: client_id, dtype: int64"
      ]
     },
     "execution_count": 65,
     "metadata": {},
     "output_type": "execute_result"
    }
   ],
   "source": [
    "# Client comptabilisant aucune vente\n",
    "dfc[~dfc['client_id'].isin(set(df.client_id))].groupby('sex').count().client_id"
   ]
  },
  {
   "cell_type": "markdown",
   "metadata": {},
   "source": [
    "### [1.1.6 Dépense client ](#sommaire)\n",
    "<a id=\"depense\" a>"
   ]
  },
  {
   "cell_type": "code",
   "execution_count": 98,
   "metadata": {},
   "outputs": [
    {
     "data": {
      "text/plain": [
       "client_id\n",
       "c_1609    162007.34\n",
       "c_4958    144257.21\n",
       "c_6714     73218.62\n",
       "c_3454     54464.20\n",
       "c_7959      2564.25\n",
       "Name: price, dtype: float64"
      ]
     },
     "execution_count": 98,
     "metadata": {},
     "output_type": "execute_result"
    }
   ],
   "source": [
    "# Dépenses par client (toutes catégories confondues)\n",
    "depense_par_client = df.price.groupby(df.client_id).sum().sort_values(ascending = False)\n",
    "depense_par_client.head()"
   ]
  },
  {
   "cell_type": "code",
   "execution_count": 99,
   "metadata": {},
   "outputs": [
    {
     "name": "stderr",
     "output_type": "stream",
     "text": [
      "No handles with labels found to put in legend.\n"
     ]
    },
    {
     "data": {
      "image/png": "[encoded data removed]",
      "text/plain": [
       "<Figure size 1152x720 with 1 Axes>"
      ]
     },
     "metadata": {
      "needs_background": "light"
     },
     "output_type": "display_data"
    }
   ],
   "source": [
    "# Courbe de Lorenz avec valeurs extremes client\n",
    "n = len(depense_par_client)\n",
    "lorenz = np.cumsum(np.sort(depense_par_client)) / depense_par_client.sum()\n",
    "lorenz = np.append([0],lorenz) # La courbe de Lorenz commence à 0\n",
    "\n",
    "plt.axes().axis('equal')\n",
    "xaxis = np.linspace(0-1/n,1+1/n,n+1) #Il y a un segment de taille n pour chaque individu, plus 1 segment supplémentaire d'ordonnée 0. Le premier segment commence à 0-1/n, et le dernier termine à 1+1/n.\n",
    "plt.plot(xaxis,lorenz,drawstyle='steps-post')\n",
    "plt.plot([0, 1], [0, 1], color = 'black', linestyle = 'solid')\n",
    "plt.title('Courbe de Lorentz, représensation des dépenses',fontsize=17)\n",
    "plt.xlim(0, 1)\n",
    "plt.ylim(0, 1)\n",
    "plt.legend(prop = {'size': 12})\n",
    "plt.gcf().set_size_inches(16, 10)\n",
    "plt.show()\n",
    "\n",
    "\n"
   ]
  },
  {
   "cell_type": "code",
   "execution_count": 100,
   "metadata": {},
   "outputs": [
    {
     "data": {
      "text/html": [
       "<div>\n",
       "<style scoped>\n",
       "    .dataframe tbody tr th:only-of-type {\n",
       "        vertical-align: middle;\n",
       "    }\n",
       "\n",
       "    .dataframe tbody tr th {\n",
       "        vertical-align: top;\n",
       "    }\n",
       "\n",
       "    .dataframe thead th {\n",
       "        text-align: right;\n",
       "    }\n",
       "</style>\n",
       "<table border=\"1\" class=\"dataframe\">\n",
       "  <thead>\n",
       "    <tr style=\"text-align: right;\">\n",
       "      <th></th>\n",
       "      <th>sales_sum</th>\n",
       "      <th>part_somme_cumulée</th>\n",
       "    </tr>\n",
       "    <tr>\n",
       "      <th>client_id</th>\n",
       "      <th></th>\n",
       "      <th></th>\n",
       "    </tr>\n",
       "  </thead>\n",
       "  <tbody>\n",
       "    <tr>\n",
       "      <th>c_1609</th>\n",
       "      <td>162207.81</td>\n",
       "      <td>2.796535</td>\n",
       "    </tr>\n",
       "    <tr>\n",
       "      <th>c_4958</th>\n",
       "      <td>144257.21</td>\n",
       "      <td>2.487059</td>\n",
       "    </tr>\n",
       "    <tr>\n",
       "      <th>c_6714</th>\n",
       "      <td>73308.88</td>\n",
       "      <td>1.263878</td>\n",
       "    </tr>\n",
       "    <tr>\n",
       "      <th>c_3454</th>\n",
       "      <td>54464.20</td>\n",
       "      <td>0.938987</td>\n",
       "    </tr>\n",
       "    <tr>\n",
       "      <th>c_7959</th>\n",
       "      <td>2564.25</td>\n",
       "      <td>0.044209</td>\n",
       "    </tr>\n",
       "  </tbody>\n",
       "</table>\n",
       "</div>"
      ],
      "text/plain": [
       "           sales_sum  part_somme_cumulée\n",
       "client_id                               \n",
       "c_1609     162207.81            2.796535\n",
       "c_4958     144257.21            2.487059\n",
       "c_6714      73308.88            1.263878\n",
       "c_3454      54464.20            0.938987\n",
       "c_7959       2564.25            0.044209"
      ]
     },
     "execution_count": 100,
     "metadata": {},
     "output_type": "execute_result"
    }
   ],
   "source": [
    "# PARETO 80- 20 \n",
    "dfs_pareto = dfs.groupby('client_id').sum().sort_values('sales_sum', ascending = False).sales_sum.to_frame()\n",
    "dfs_pareto['part_somme_cumulée'] = dfs_pareto.sales_sum * 100 / dfs.sales_sum.sum()\n",
    "dfs_pareto.head()"
   ]
  },
  {
   "cell_type": "code",
   "execution_count": 105,
   "metadata": {},
   "outputs": [
    {
     "name": "stdout",
     "output_type": "stream",
     "text": [
      "Nombre de personnes représentant 20% du CA : 393 personnes\n",
      "Nombre de personnes représentant 50% du CA : 1838 personnes\n",
      "Nombre de personnes représentant 80% du CA : 4347 personnes\n",
      "Nombre de personnes représentant 100% du CA : 8599 personnes\n"
     ]
    }
   ],
   "source": [
    "# Combien de personnes représentent 20 % du CA ?\n",
    "dfs_pareto['part_somme_cumulée'] = dfs_pareto.sales_sum.cumsum() * 100 / dfs.sales_sum.sum()\n",
    "print ('Nombre de personnes représentant 20% du CA :', dfs_pareto[dfs_pareto.part_somme_cumulée <=20].count()[0],'personnes') \n",
    "print ('Nombre de personnes représentant 50% du CA :', dfs_pareto[dfs_pareto.part_somme_cumulée <=50].count()[0],'personnes') \n",
    "print ('Nombre de personnes représentant 80% du CA :', dfs_pareto[dfs_pareto.part_somme_cumulée <=80].count()[0],'personnes') \n",
    "print ('Nombre de personnes représentant 100% du CA :', dfs_pareto[dfs_pareto.part_somme_cumulée <=100].count()[0],'personnes') \n",
    "\n"
   ]
  },
  {
   "cell_type": "markdown",
   "metadata": {},
   "source": [
    "## [1.2 Offre produits](#sommaire)\n",
    "<a id=\"produit\" a>"
   ]
  },
  {
   "cell_type": "code",
   "execution_count": 156,
   "metadata": {},
   "outputs": [
    {
     "data": {
      "text/html": [
       "<div>\n",
       "<style scoped>\n",
       "    .dataframe tbody tr th:only-of-type {\n",
       "        vertical-align: middle;\n",
       "    }\n",
       "\n",
       "    .dataframe tbody tr th {\n",
       "        vertical-align: top;\n",
       "    }\n",
       "\n",
       "    .dataframe thead th {\n",
       "        text-align: right;\n",
       "    }\n",
       "</style>\n",
       "<table border=\"1\" class=\"dataframe\">\n",
       "  <thead>\n",
       "    <tr style=\"text-align: right;\">\n",
       "      <th>categ</th>\n",
       "      <th>level_0</th>\n",
       "      <th>indicateur</th>\n",
       "      <th>Catégorie 0</th>\n",
       "      <th>Catégorie 1</th>\n",
       "      <th>Catégorie 2</th>\n",
       "    </tr>\n",
       "  </thead>\n",
       "  <tbody>\n",
       "    <tr>\n",
       "      <th>0</th>\n",
       "      <td>price</td>\n",
       "      <td>count</td>\n",
       "      <td>2308.00</td>\n",
       "      <td>739.00</td>\n",
       "      <td>239.00</td>\n",
       "    </tr>\n",
       "    <tr>\n",
       "      <th>1</th>\n",
       "      <td>price</td>\n",
       "      <td>mean</td>\n",
       "      <td>11.73</td>\n",
       "      <td>25.53</td>\n",
       "      <td>108.35</td>\n",
       "    </tr>\n",
       "    <tr>\n",
       "      <th>2</th>\n",
       "      <td>price</td>\n",
       "      <td>std</td>\n",
       "      <td>7.57</td>\n",
       "      <td>15.43</td>\n",
       "      <td>49.56</td>\n",
       "    </tr>\n",
       "    <tr>\n",
       "      <th>3</th>\n",
       "      <td>price</td>\n",
       "      <td>min</td>\n",
       "      <td>0.62</td>\n",
       "      <td>2.00</td>\n",
       "      <td>30.99</td>\n",
       "    </tr>\n",
       "    <tr>\n",
       "      <th>4</th>\n",
       "      <td>price</td>\n",
       "      <td>25%</td>\n",
       "      <td>5.59</td>\n",
       "      <td>13.39</td>\n",
       "      <td>71.06</td>\n",
       "    </tr>\n",
       "    <tr>\n",
       "      <th>5</th>\n",
       "      <td>price</td>\n",
       "      <td>50%</td>\n",
       "      <td>10.32</td>\n",
       "      <td>22.99</td>\n",
       "      <td>101.99</td>\n",
       "    </tr>\n",
       "    <tr>\n",
       "      <th>6</th>\n",
       "      <td>price</td>\n",
       "      <td>75%</td>\n",
       "      <td>16.66</td>\n",
       "      <td>33.99</td>\n",
       "      <td>136.53</td>\n",
       "    </tr>\n",
       "    <tr>\n",
       "      <th>7</th>\n",
       "      <td>price</td>\n",
       "      <td>max</td>\n",
       "      <td>40.99</td>\n",
       "      <td>80.99</td>\n",
       "      <td>300.00</td>\n",
       "    </tr>\n",
       "    <tr>\n",
       "      <th>8</th>\n",
       "      <td>price</td>\n",
       "      <td>skewness</td>\n",
       "      <td>0.84</td>\n",
       "      <td>0.81</td>\n",
       "      <td>0.93</td>\n",
       "    </tr>\n",
       "    <tr>\n",
       "      <th>9</th>\n",
       "      <td>price</td>\n",
       "      <td>kurtosis</td>\n",
       "      <td>0.33</td>\n",
       "      <td>0.30</td>\n",
       "      <td>0.81</td>\n",
       "    </tr>\n",
       "  </tbody>\n",
       "</table>\n",
       "</div>"
      ],
      "text/plain": [
       "categ level_0 indicateur  Catégorie 0  Catégorie 1  Catégorie 2\n",
       "0       price      count      2308.00       739.00       239.00\n",
       "1       price       mean        11.73        25.53       108.35\n",
       "2       price        std         7.57        15.43        49.56\n",
       "3       price        min         0.62         2.00        30.99\n",
       "4       price        25%         5.59        13.39        71.06\n",
       "5       price        50%        10.32        22.99       101.99\n",
       "6       price        75%        16.66        33.99       136.53\n",
       "7       price        max        40.99        80.99       300.00\n",
       "8       price   skewness         0.84         0.81         0.93\n",
       "9       price   kurtosis         0.33         0.30         0.81"
      ]
     },
     "execution_count": 156,
     "metadata": {},
     "output_type": "execute_result"
    }
   ],
   "source": [
    "# Matrice statistique des indicateurs\n",
    "stat_price = dfp.groupby('categ').describe().transpose().reset_index()\n",
    "stat_price = stat_price.rename(columns={\"categ\": \"index\",\"level_1\": \"indicateur\", 0: \"Catégorie 0\",1: \"Catégorie 1\",2: \"Catégorie 2\"})\n",
    "\n",
    "# Ajout du Skewness\n",
    "stat_price.loc[8] = ['price',\n",
    "                 'skewness',\n",
    "                 dfp[dfp.categ == 0].skew().price,\n",
    "                 dfp[dfp.categ == 1].skew().price,\n",
    "                 dfp[dfp.categ == 2].skew().price]\n",
    "\n",
    "\n",
    "# Ajout du Kurtosis\n",
    "stat_price.loc[9] = ['price',\n",
    "                 'kurtosis',\n",
    "                 dfp[dfp.categ == 0].kurt().price,\n",
    "                 dfp[dfp.categ == 1].kurt().price,\n",
    "                 dfp[dfp.categ == 2].kurt().price]\n",
    "\n",
    "\n",
    "stat_price = round(stat_price,2)\n",
    "stat_price "
   ]
  },
  {
   "cell_type": "code",
   "execution_count": 177,
   "metadata": {},
   "outputs": [
    {
     "data": {
      "image/png": "[encoded data removed]",
      "text/plain": [
       "<Figure size 864x576 with 1 Axes>"
      ]
     },
     "metadata": {
      "needs_background": "light"
     },
     "output_type": "display_data"
    },
    {
     "data": {
      "image/png": "[encoded data removed]",
      "text/plain": [
       "<Figure size 864x576 with 1 Axes>"
      ]
     },
     "metadata": {
      "needs_background": "light"
     },
     "output_type": "display_data"
    },
    {
     "data": {
      "image/png": "[encoded data removed]",
      "text/plain": [
       "<Figure size 864x576 with 1 Axes>"
      ]
     },
     "metadata": {
      "needs_background": "light"
     },
     "output_type": "display_data"
    }
   ],
   "source": [
    "# Histogramme : répartition des prix de la cat 0\n",
    " \n",
    "# Catégorie 0\n",
    "dfp[dfp.categ == 0].price.hist(color='#FFC222')\n",
    "plt.title('Repartition des prix pour Catégorie 0, (base DFP)', fontsize = 22)\n",
    "plt.ylabel('Nombre de produits',fontsize = 22)\n",
    "plt.xlabel('Prix',fontsize = 22)\n",
    "plt.xlim(0, 300)\n",
    "plt.ylim(0, 600)\n",
    "plt.gcf().set_size_inches(12, 8)\n",
    "plt.show()\n",
    "\n",
    "# Histogramme : répartition des prix de la cat 1\n",
    "dfp[dfp.categ == 1].price.hist(color='#05aec0')\n",
    "plt.title('Repartition des prix pour Catégorie 1, (base DFP)',fontsize = 22)\n",
    "plt.ylabel('Nombre de produits',fontsize = 22)\n",
    "plt.xlabel('Prix',fontsize = 22)\n",
    "plt.ylim(0, 600)\n",
    "plt.xlim(0, 300)\n",
    "plt.gcf().set_size_inches(12, 8)\n",
    "plt.show()\n",
    "\n",
    "\n",
    "# Histogramme : répartition des prix de la cat 2 \n",
    "dfp[dfp.categ == 2].price.hist(color='#fb7465')\n",
    "plt.title('Repartition des prix pour Catégorie 2, (base DFP)',fontsize = 22)\n",
    "plt.ylabel('Nombre de produits',fontsize = 22)\n",
    "plt.xlabel('Prix',fontsize = 22)\n",
    "plt.ylim(0, 500)\n",
    "plt.xlim(0, 300)\n",
    "plt.gcf().set_size_inches(12, 8)\n",
    "plt.show()\n"
   ]
  },
  {
   "cell_type": "markdown",
   "metadata": {},
   "source": [
    "## [1.3 Santé financière](#sommaire)\n",
    "<a id=\"sante\" a>"
   ]
  },
  {
   "cell_type": "code",
   "execution_count": 178,
   "metadata": {},
   "outputs": [
    {
     "data": {
      "text/html": [
       "<div>\n",
       "<style scoped>\n",
       "    .dataframe tbody tr th:only-of-type {\n",
       "        vertical-align: middle;\n",
       "    }\n",
       "\n",
       "    .dataframe tbody tr th {\n",
       "        vertical-align: top;\n",
       "    }\n",
       "\n",
       "    .dataframe thead th {\n",
       "        text-align: right;\n",
       "    }\n",
       "</style>\n",
       "<table border=\"1\" class=\"dataframe\">\n",
       "  <thead>\n",
       "    <tr style=\"text-align: right;\">\n",
       "      <th></th>\n",
       "      <th>month_year</th>\n",
       "      <th>sales_count</th>\n",
       "      <th>sales_sum</th>\n",
       "    </tr>\n",
       "  </thead>\n",
       "  <tbody>\n",
       "    <tr>\n",
       "      <th>5</th>\n",
       "      <td>3/2021</td>\n",
       "      <td>28574</td>\n",
       "      <td>479478.18</td>\n",
       "    </tr>\n",
       "    <tr>\n",
       "      <th>6</th>\n",
       "      <td>4/2021</td>\n",
       "      <td>28430</td>\n",
       "      <td>473332.05</td>\n",
       "    </tr>\n",
       "    <tr>\n",
       "      <th>7</th>\n",
       "      <td>5/2021</td>\n",
       "      <td>28259</td>\n",
       "      <td>489688.07</td>\n",
       "    </tr>\n",
       "    <tr>\n",
       "      <th>8</th>\n",
       "      <td>6/2021</td>\n",
       "      <td>26835</td>\n",
       "      <td>481639.05</td>\n",
       "    </tr>\n",
       "    <tr>\n",
       "      <th>9</th>\n",
       "      <td>7/2021</td>\n",
       "      <td>24737</td>\n",
       "      <td>481421.45</td>\n",
       "    </tr>\n",
       "    <tr>\n",
       "      <th>10</th>\n",
       "      <td>8/2021</td>\n",
       "      <td>25632</td>\n",
       "      <td>479644.70</td>\n",
       "    </tr>\n",
       "    <tr>\n",
       "      <th>11</th>\n",
       "      <td>9/2021</td>\n",
       "      <td>33275</td>\n",
       "      <td>502997.32</td>\n",
       "    </tr>\n",
       "    <tr>\n",
       "      <th>1</th>\n",
       "      <td>10/2021</td>\n",
       "      <td>21596</td>\n",
       "      <td>319396.24</td>\n",
       "    </tr>\n",
       "    <tr>\n",
       "      <th>2</th>\n",
       "      <td>11/2021</td>\n",
       "      <td>28292</td>\n",
       "      <td>513173.30</td>\n",
       "    </tr>\n",
       "    <tr>\n",
       "      <th>3</th>\n",
       "      <td>12/2021</td>\n",
       "      <td>32441</td>\n",
       "      <td>523321.44</td>\n",
       "    </tr>\n",
       "    <tr>\n",
       "      <th>0</th>\n",
       "      <td>1/2022</td>\n",
       "      <td>29328</td>\n",
       "      <td>523175.28</td>\n",
       "    </tr>\n",
       "    <tr>\n",
       "      <th>4</th>\n",
       "      <td>2/2022</td>\n",
       "      <td>29574</td>\n",
       "      <td>533046.81</td>\n",
       "    </tr>\n",
       "  </tbody>\n",
       "</table>\n",
       "</div>"
      ],
      "text/plain": [
       "   month_year  sales_count  sales_sum\n",
       "5      3/2021        28574  479478.18\n",
       "6      4/2021        28430  473332.05\n",
       "7      5/2021        28259  489688.07\n",
       "8      6/2021        26835  481639.05\n",
       "9      7/2021        24737  481421.45\n",
       "10     8/2021        25632  479644.70\n",
       "11     9/2021        33275  502997.32\n",
       "1     10/2021        21596  319396.24\n",
       "2     11/2021        28292  513173.30\n",
       "3     12/2021        32441  523321.44\n",
       "0      1/2022        29328  523175.28\n",
       "4      2/2022        29574  533046.81"
      ]
     },
     "execution_count": 178,
     "metadata": {},
     "output_type": "execute_result"
    }
   ],
   "source": [
    "# Construction du dataframe CA mensuel\n",
    "dfs['month_year'] = dfs.month.map(str) + '/' + dfs.year.map(str) \n",
    "\n",
    "SF = dfs.groupby('month_year').agg({'sales_count' :'sum','sales_sum': 'sum' }).reset_index().sort_values('month_year',ascending = True)\n",
    "\n",
    "new_index = [5,6,7,8,9,10,11,1,2,3,0,4]\n",
    "SF = SF.reindex(new_index)\n",
    "\n",
    "SF"
   ]
  },
  {
   "cell_type": "code",
   "execution_count": 180,
   "metadata": {},
   "outputs": [
    {
     "data": {
      "image/png": "[encoded data removed]",
      "text/plain": [
       "<Figure size 1080x720 with 2 Axes>"
      ]
     },
     "metadata": {
      "needs_background": "light"
     },
     "output_type": "display_data"
    }
   ],
   "source": [
    "# Représentation graphique du nombre de vente et CA par mois \n",
    "x = SF.month_year\n",
    "y1 = SF.sales_count\n",
    "y2 = SF.sales_sum\n",
    "\n",
    "fig, ax1 = plt.subplots()\n",
    "\n",
    "ax2 = ax1.twinx()\n",
    "ax1.plot(x, y1, 'g-')\n",
    "ax2.plot(x, y2, 'b-')\n",
    "\n",
    "ax1.set_xlabel('Temps',fontsize = 22)\n",
    "ax1.set_ylabel('Nombre articles vendus',fontsize = 22)\n",
    "ax2.set_ylabel('CA')\n",
    "ax1.legend(['Nombre de ventes'], loc='upper left')\n",
    "ax2.legend(['CA'], loc='lower left')\n",
    "plt.title('Evolution du CA et du nombre de ventes',fontsize = 22)\n",
    "plt.gcf().set_size_inches(15, 10)\n",
    "plt.grid()\n",
    "plt.show()"
   ]
  },
  {
   "cell_type": "code",
   "execution_count": 181,
   "metadata": {},
   "outputs": [
    {
     "ename": "KeyError",
     "evalue": "'day'",
     "output_type": "error",
     "traceback": [
      "\u001b[0;31m---------------------------------------------------------------------------\u001b[0m",
      "\u001b[0;31mKeyError\u001b[0m                                  Traceback (most recent call last)",
      "\u001b[0;32m<ipython-input-181-8e4356f15b2e>\u001b[0m in \u001b[0;36m<module>\u001b[0;34m\u001b[0m\n\u001b[1;32m      1\u001b[0m \u001b[0;31m# Commerce sur le mois de octobre\u001b[0m\u001b[0;34m\u001b[0m\u001b[0;34m\u001b[0m\u001b[0;34m\u001b[0m\u001b[0m\n\u001b[0;32m----> 2\u001b[0;31m \u001b[0mOCT\u001b[0m \u001b[0;34m=\u001b[0m \u001b[0mdfs\u001b[0m\u001b[0;34m[\u001b[0m\u001b[0mdfs\u001b[0m\u001b[0;34m.\u001b[0m\u001b[0mmonth\u001b[0m \u001b[0;34m==\u001b[0m \u001b[0;36m10\u001b[0m\u001b[0;34m]\u001b[0m\u001b[0;34m.\u001b[0m\u001b[0mgroupby\u001b[0m\u001b[0;34m(\u001b[0m\u001b[0;34m'day'\u001b[0m\u001b[0;34m)\u001b[0m\u001b[0;34m.\u001b[0m\u001b[0msum\u001b[0m\u001b[0;34m(\u001b[0m\u001b[0;34m)\u001b[0m\u001b[0;34m.\u001b[0m\u001b[0mreset_index\u001b[0m\u001b[0;34m(\u001b[0m\u001b[0;34m)\u001b[0m\u001b[0;34m\u001b[0m\u001b[0;34m\u001b[0m\u001b[0m\n\u001b[0m\u001b[1;32m      3\u001b[0m \u001b[0;34m\u001b[0m\u001b[0m\n\u001b[1;32m      4\u001b[0m \u001b[0mx\u001b[0m \u001b[0;34m=\u001b[0m \u001b[0mOCT\u001b[0m\u001b[0;34m.\u001b[0m\u001b[0mday\u001b[0m\u001b[0;34m\u001b[0m\u001b[0;34m\u001b[0m\u001b[0m\n\u001b[1;32m      5\u001b[0m \u001b[0my1\u001b[0m \u001b[0;34m=\u001b[0m \u001b[0mOCT\u001b[0m\u001b[0;34m.\u001b[0m\u001b[0msales_count\u001b[0m\u001b[0;34m\u001b[0m\u001b[0;34m\u001b[0m\u001b[0m\n",
      "\u001b[0;32m~/anaconda3/lib/python3.7/site-packages/pandas/core/frame.py\u001b[0m in \u001b[0;36mgroupby\u001b[0;34m(self, by, axis, level, as_index, sort, group_keys, squeeze, observed)\u001b[0m\n\u001b[1;32m   5808\u001b[0m             \u001b[0mgroup_keys\u001b[0m\u001b[0;34m=\u001b[0m\u001b[0mgroup_keys\u001b[0m\u001b[0;34m,\u001b[0m\u001b[0;34m\u001b[0m\u001b[0;34m\u001b[0m\u001b[0m\n\u001b[1;32m   5809\u001b[0m             \u001b[0msqueeze\u001b[0m\u001b[0;34m=\u001b[0m\u001b[0msqueeze\u001b[0m\u001b[0;34m,\u001b[0m\u001b[0;34m\u001b[0m\u001b[0;34m\u001b[0m\u001b[0m\n\u001b[0;32m-> 5810\u001b[0;31m             \u001b[0mobserved\u001b[0m\u001b[0;34m=\u001b[0m\u001b[0mobserved\u001b[0m\u001b[0;34m,\u001b[0m\u001b[0;34m\u001b[0m\u001b[0;34m\u001b[0m\u001b[0m\n\u001b[0m\u001b[1;32m   5811\u001b[0m         )\n\u001b[1;32m   5812\u001b[0m \u001b[0;34m\u001b[0m\u001b[0m\n",
      "\u001b[0;32m~/anaconda3/lib/python3.7/site-packages/pandas/core/groupby/groupby.py\u001b[0m in \u001b[0;36m__init__\u001b[0;34m(self, obj, keys, axis, level, grouper, exclusions, selection, as_index, sort, group_keys, squeeze, observed, mutated)\u001b[0m\n\u001b[1;32m    407\u001b[0m                 \u001b[0msort\u001b[0m\u001b[0;34m=\u001b[0m\u001b[0msort\u001b[0m\u001b[0;34m,\u001b[0m\u001b[0;34m\u001b[0m\u001b[0;34m\u001b[0m\u001b[0m\n\u001b[1;32m    408\u001b[0m                 \u001b[0mobserved\u001b[0m\u001b[0;34m=\u001b[0m\u001b[0mobserved\u001b[0m\u001b[0;34m,\u001b[0m\u001b[0;34m\u001b[0m\u001b[0;34m\u001b[0m\u001b[0m\n\u001b[0;32m--> 409\u001b[0;31m                 \u001b[0mmutated\u001b[0m\u001b[0;34m=\u001b[0m\u001b[0mself\u001b[0m\u001b[0;34m.\u001b[0m\u001b[0mmutated\u001b[0m\u001b[0;34m,\u001b[0m\u001b[0;34m\u001b[0m\u001b[0;34m\u001b[0m\u001b[0m\n\u001b[0m\u001b[1;32m    410\u001b[0m             )\n\u001b[1;32m    411\u001b[0m \u001b[0;34m\u001b[0m\u001b[0m\n",
      "\u001b[0;32m~/anaconda3/lib/python3.7/site-packages/pandas/core/groupby/grouper.py\u001b[0m in \u001b[0;36mget_grouper\u001b[0;34m(obj, key, axis, level, sort, observed, mutated, validate)\u001b[0m\n\u001b[1;32m    596\u001b[0m                 \u001b[0min_axis\u001b[0m\u001b[0;34m,\u001b[0m \u001b[0mname\u001b[0m\u001b[0;34m,\u001b[0m \u001b[0mlevel\u001b[0m\u001b[0;34m,\u001b[0m \u001b[0mgpr\u001b[0m \u001b[0;34m=\u001b[0m \u001b[0;32mFalse\u001b[0m\u001b[0;34m,\u001b[0m \u001b[0;32mNone\u001b[0m\u001b[0;34m,\u001b[0m \u001b[0mgpr\u001b[0m\u001b[0;34m,\u001b[0m \u001b[0;32mNone\u001b[0m\u001b[0;34m\u001b[0m\u001b[0;34m\u001b[0m\u001b[0m\n\u001b[1;32m    597\u001b[0m             \u001b[0;32melse\u001b[0m\u001b[0;34m:\u001b[0m\u001b[0;34m\u001b[0m\u001b[0;34m\u001b[0m\u001b[0m\n\u001b[0;32m--> 598\u001b[0;31m                 \u001b[0;32mraise\u001b[0m \u001b[0mKeyError\u001b[0m\u001b[0;34m(\u001b[0m\u001b[0mgpr\u001b[0m\u001b[0;34m)\u001b[0m\u001b[0;34m\u001b[0m\u001b[0;34m\u001b[0m\u001b[0m\n\u001b[0m\u001b[1;32m    599\u001b[0m         \u001b[0;32melif\u001b[0m \u001b[0misinstance\u001b[0m\u001b[0;34m(\u001b[0m\u001b[0mgpr\u001b[0m\u001b[0;34m,\u001b[0m \u001b[0mGrouper\u001b[0m\u001b[0;34m)\u001b[0m \u001b[0;32mand\u001b[0m \u001b[0mgpr\u001b[0m\u001b[0;34m.\u001b[0m\u001b[0mkey\u001b[0m \u001b[0;32mis\u001b[0m \u001b[0;32mnot\u001b[0m \u001b[0;32mNone\u001b[0m\u001b[0;34m:\u001b[0m\u001b[0;34m\u001b[0m\u001b[0;34m\u001b[0m\u001b[0m\n\u001b[1;32m    600\u001b[0m             \u001b[0;31m# Add key to exclusions\u001b[0m\u001b[0;34m\u001b[0m\u001b[0;34m\u001b[0m\u001b[0;34m\u001b[0m\u001b[0m\n",
      "\u001b[0;31mKeyError\u001b[0m: 'day'"
     ]
    }
   ],
   "source": [
    "# Commerce sur le mois de octobre\n",
    "OCT = dfs[dfs.month == 10].groupby('day').sum().reset_index()\n",
    "\n",
    "x = OCT.day\n",
    "y1 = OCT.sales_count\n",
    "y2 = OCT.sales_sum\n",
    "\n",
    "fig, ax1 = plt.subplots()\n",
    "\n",
    "ax2 = ax1.twinx()\n",
    "ax1.plot(x, y1, 'g-')\n",
    "ax2.plot(x, y2, 'b-')\n",
    "\n",
    "ax1.set_xlabel('Jour',fontsize = 22)\n",
    "ax1.set_ylabel('Nombre articles vendus',fontsize = 22)\n",
    "ax2.set_ylabel('CA')\n",
    "ax1.legend(['Nombre de ventes'], loc='upper left')\n",
    "ax2.legend(['CA'], loc='lower left')\n",
    "plt.title('Commerce du mois octobre',fontsize = 22)\n",
    "plt.gcf().set_size_inches(15, 10)\n",
    "plt.grid()\n",
    "plt.show()"
   ]
  },
  {
   "cell_type": "code",
   "execution_count": 454,
   "metadata": {},
   "outputs": [
    {
     "data": {
      "text/html": [
       "<div>\n",
       "<style scoped>\n",
       "    .dataframe tbody tr th:only-of-type {\n",
       "        vertical-align: middle;\n",
       "    }\n",
       "\n",
       "    .dataframe tbody tr th {\n",
       "        vertical-align: top;\n",
       "    }\n",
       "\n",
       "    .dataframe thead th {\n",
       "        text-align: right;\n",
       "    }\n",
       "</style>\n",
       "<table border=\"1\" class=\"dataframe\">\n",
       "  <thead>\n",
       "    <tr style=\"text-align: right;\">\n",
       "      <th></th>\n",
       "      <th>day</th>\n",
       "      <th>sales_count</th>\n",
       "      <th>sales_sum</th>\n",
       "      <th>year</th>\n",
       "      <th>month</th>\n",
       "      <th>age</th>\n",
       "    </tr>\n",
       "  </thead>\n",
       "  <tbody>\n",
       "    <tr>\n",
       "      <th>0</th>\n",
       "      <td>1</td>\n",
       "      <td>1050</td>\n",
       "      <td>16993.89</td>\n",
       "      <td>1018584</td>\n",
       "      <td>5040</td>\n",
       "      <td>23859</td>\n",
       "    </tr>\n",
       "    <tr>\n",
       "      <th>1</th>\n",
       "      <td>2</td>\n",
       "      <td>691</td>\n",
       "      <td>9080.89</td>\n",
       "      <td>715434</td>\n",
       "      <td>3540</td>\n",
       "      <td>15874</td>\n",
       "    </tr>\n",
       "    <tr>\n",
       "      <th>2</th>\n",
       "      <td>3</td>\n",
       "      <td>687</td>\n",
       "      <td>8947.65</td>\n",
       "      <td>729581</td>\n",
       "      <td>3610</td>\n",
       "      <td>15960</td>\n",
       "    </tr>\n",
       "    <tr>\n",
       "      <th>3</th>\n",
       "      <td>4</td>\n",
       "      <td>644</td>\n",
       "      <td>9206.07</td>\n",
       "      <td>725539</td>\n",
       "      <td>3590</td>\n",
       "      <td>16295</td>\n",
       "    </tr>\n",
       "    <tr>\n",
       "      <th>4</th>\n",
       "      <td>5</td>\n",
       "      <td>644</td>\n",
       "      <td>9538.84</td>\n",
       "      <td>741707</td>\n",
       "      <td>3670</td>\n",
       "      <td>16468</td>\n",
       "    </tr>\n",
       "  </tbody>\n",
       "</table>\n",
       "</div>"
      ],
      "text/plain": [
       "   day  sales_count  sales_sum     year  month    age\n",
       "0    1         1050   16993.89  1018584   5040  23859\n",
       "1    2          691    9080.89   715434   3540  15874\n",
       "2    3          687    8947.65   729581   3610  15960\n",
       "3    4          644    9206.07   725539   3590  16295\n",
       "4    5          644    9538.84   741707   3670  16468"
      ]
     },
     "execution_count": 454,
     "metadata": {},
     "output_type": "execute_result"
    }
   ],
   "source": [
    "OCT.head()"
   ]
  },
  {
   "cell_type": "code",
   "execution_count": 112,
   "metadata": {},
   "outputs": [
    {
     "data": {
      "text/plain": [
       "categ\n",
       "0.0    161300.02\n",
       "2.0     68987.96\n",
       "Name: price, dtype: float64"
      ]
     },
     "execution_count": 112,
     "metadata": {},
     "output_type": "execute_result"
    }
   ],
   "source": [
    "# Recherche d'une catégorie particulière expliquant pe les ruptures ? / AUCUN PRODUIT CAT 1 du 2 au 27 inclus - Slide 19\n",
    "df[(df.month == 10) & (df.day > 2) & (df.day < 28)].groupby('categ').sum().price"
   ]
  },
  {
   "cell_type": "markdown",
   "metadata": {},
   "source": [
    "## [1.4 Connexions](#sommaire)\n",
    "<a id=\"connexions\" a>"
   ]
  },
  {
   "cell_type": "code",
   "execution_count": 183,
   "metadata": {},
   "outputs": [
    {
     "ename": "NameError",
     "evalue": "name 'SESSION' is not defined",
     "output_type": "error",
     "traceback": [
      "\u001b[0;31m---------------------------------------------------------------------------\u001b[0m",
      "\u001b[0;31mNameError\u001b[0m                                 Traceback (most recent call last)",
      "\u001b[0;32m<ipython-input-183-d1d61cccca4f>\u001b[0m in \u001b[0;36m<module>\u001b[0;34m\u001b[0m\n\u001b[0;32m----> 1\u001b[0;31m \u001b[0mSESSION\u001b[0m\u001b[0;34m.\u001b[0m\u001b[0mhead\u001b[0m\u001b[0;34m(\u001b[0m\u001b[0;34m)\u001b[0m\u001b[0;34m\u001b[0m\u001b[0;34m\u001b[0m\u001b[0m\n\u001b[0m",
      "\u001b[0;31mNameError\u001b[0m: name 'SESSION' is not defined"
     ]
    }
   ],
   "source": [
    "SESSION.head()"
   ]
  },
  {
   "cell_type": "code",
   "execution_count": 184,
   "metadata": {},
   "outputs": [
    {
     "data": {
      "image/png": "[encoded data removed]",
      "text/plain": [
       "<Figure size 1080x720 with 1 Axes>"
      ]
     },
     "metadata": {
      "needs_background": "light"
     },
     "output_type": "display_data"
    }
   ],
   "source": [
    "# Graphique representant le nombre de sessions Homme et Femme(slide 20)\n",
    "SESSION = df[~df['client_id'].isin(outliers)].drop_duplicates(subset='session_id', keep=\"last\").groupby(['sex','year','month']).agg({'session_id':'count'}).reset_index()\n",
    "SESSION['month_year'] = SESSION.month.map(str) + '/' + SESSION.year.map(str) \n",
    "\n",
    "x = SESSION[SESSION.sex =='f'].month_year\n",
    "y1 = SESSION[SESSION.sex =='f'].session_id\n",
    "y2 = SESSION[SESSION.sex =='m'].session_id\n",
    "\n",
    "plt.subplot()\n",
    "plt.plot(x, y1, \"r--\", linewidth=1,label=\"Femme\")\n",
    "plt.plot(x, y2, \"g--\", linewidth=1,label=\"Homme\")\n",
    "plt.xlabel('Periode',fontsize = 22)\n",
    "plt.ylabel('Nombre de sessions',fontsize = 22)\n",
    "plt.title('Evolution du nombre de sessions (H/F) sur 1an',fontsize = 22)\n",
    "plt.gcf().set_size_inches(15, 10)\n",
    "plt.grid(True)"
   ]
  },
  {
   "cell_type": "markdown",
   "metadata": {},
   "source": [
    "## [2. Recherche de corrélations](#sommaire)\n",
    "<a id=\"corrélation\" a>"
   ]
  },
  {
   "cell_type": "markdown",
   "metadata": {},
   "source": [
    "## [2.1 Corrélation sexe et catégorie produits achetés](#sommaire)\n",
    "<a id=\"sexe_catégorie\" a>"
   ]
  },
  {
   "cell_type": "code",
   "execution_count": 185,
   "metadata": {},
   "outputs": [
    {
     "data": {
      "text/html": [
       "<div>\n",
       "<style scoped>\n",
       "    .dataframe tbody tr th:only-of-type {\n",
       "        vertical-align: middle;\n",
       "    }\n",
       "\n",
       "    .dataframe tbody tr th {\n",
       "        vertical-align: top;\n",
       "    }\n",
       "\n",
       "    .dataframe thead th {\n",
       "        text-align: right;\n",
       "    }\n",
       "</style>\n",
       "<table border=\"1\" class=\"dataframe\">\n",
       "  <thead>\n",
       "    <tr style=\"text-align: right;\">\n",
       "      <th>sex</th>\n",
       "      <th>f</th>\n",
       "      <th>m</th>\n",
       "      <th>Total</th>\n",
       "    </tr>\n",
       "    <tr>\n",
       "      <th>categ</th>\n",
       "      <th></th>\n",
       "      <th></th>\n",
       "      <th></th>\n",
       "    </tr>\n",
       "  </thead>\n",
       "  <tbody>\n",
       "    <tr>\n",
       "      <th>0.0</th>\n",
       "      <td>101206.0</td>\n",
       "      <td>94064.0</td>\n",
       "      <td>209529.0</td>\n",
       "    </tr>\n",
       "    <tr>\n",
       "      <th>1.0</th>\n",
       "      <td>53774.0</td>\n",
       "      <td>48851.0</td>\n",
       "      <td>109735.0</td>\n",
       "    </tr>\n",
       "    <tr>\n",
       "      <th>2.0</th>\n",
       "      <td>8122.0</td>\n",
       "      <td>7634.0</td>\n",
       "      <td>17552.0</td>\n",
       "    </tr>\n",
       "    <tr>\n",
       "      <th>total</th>\n",
       "      <td>167575.0</td>\n",
       "      <td>169241.0</td>\n",
       "      <td>336816.0</td>\n",
       "    </tr>\n",
       "  </tbody>\n",
       "</table>\n",
       "</div>"
      ],
      "text/plain": [
       "sex           f         m     Total\n",
       "categ                              \n",
       "0.0    101206.0   94064.0  209529.0\n",
       "1.0     53774.0   48851.0  109735.0\n",
       "2.0      8122.0    7634.0   17552.0\n",
       "total  167575.0  169241.0  336816.0"
      ]
     },
     "execution_count": 185,
     "metadata": {},
     "output_type": "execute_result"
    }
   ],
   "source": [
    "# Tableau de contingeance\n",
    "X = \"categ\"\n",
    "Y = \"sex\"\n",
    "\n",
    "c = df[~df['client_id'].isin(outliers)][[X,Y]].pivot_table(index=X,columns=Y,aggfunc=len)\n",
    "cont = c.copy()  \n",
    "\n",
    "tx = df[X].value_counts() \n",
    "ty = df[Y].value_counts()  \n",
    "\n",
    "\n",
    "cont.loc[:,\"Total\"] = tx \n",
    "cont.loc[\"total\",:] = ty \n",
    "cont.loc[\"total\",\"Total\"] = len(df)\n",
    "cont"
   ]
  },
  {
   "cell_type": "code",
   "execution_count": 186,
   "metadata": {},
   "outputs": [
    {
     "data": {
      "text/html": [
       "<div>\n",
       "<style scoped>\n",
       "    .dataframe tbody tr th:only-of-type {\n",
       "        vertical-align: middle;\n",
       "    }\n",
       "\n",
       "    .dataframe tbody tr th {\n",
       "        vertical-align: top;\n",
       "    }\n",
       "\n",
       "    .dataframe thead th {\n",
       "        text-align: right;\n",
       "    }\n",
       "</style>\n",
       "<table border=\"1\" class=\"dataframe\">\n",
       "  <thead>\n",
       "    <tr style=\"text-align: right;\">\n",
       "      <th>sex</th>\n",
       "      <th>f</th>\n",
       "      <th>m</th>\n",
       "      <th>Total</th>\n",
       "    </tr>\n",
       "    <tr>\n",
       "      <th>categ</th>\n",
       "      <th></th>\n",
       "      <th></th>\n",
       "      <th></th>\n",
       "    </tr>\n",
       "  </thead>\n",
       "  <tbody>\n",
       "    <tr>\n",
       "      <th>0.0</th>\n",
       "      <td>101206.0</td>\n",
       "      <td>94064.0</td>\n",
       "      <td>195270.0</td>\n",
       "    </tr>\n",
       "    <tr>\n",
       "      <th>1.0</th>\n",
       "      <td>53774.0</td>\n",
       "      <td>48851.0</td>\n",
       "      <td>102625.0</td>\n",
       "    </tr>\n",
       "    <tr>\n",
       "      <th>2.0</th>\n",
       "      <td>8122.0</td>\n",
       "      <td>7634.0</td>\n",
       "      <td>15756.0</td>\n",
       "    </tr>\n",
       "    <tr>\n",
       "      <th>total</th>\n",
       "      <td>163102.0</td>\n",
       "      <td>150549.0</td>\n",
       "      <td>313651.0</td>\n",
       "    </tr>\n",
       "  </tbody>\n",
       "</table>\n",
       "</div>"
      ],
      "text/plain": [
       "sex           f         m     Total\n",
       "categ                              \n",
       "0.0    101206.0   94064.0  195270.0\n",
       "1.0     53774.0   48851.0  102625.0\n",
       "2.0      8122.0    7634.0   15756.0\n",
       "total  163102.0  150549.0  313651.0"
      ]
     },
     "execution_count": 186,
     "metadata": {},
     "output_type": "execute_result"
    }
   ],
   "source": [
    "# Tableau de contingeance\n",
    "X = \"categ\"\n",
    "Y = \"sex\"\n",
    "\n",
    "c = df_SO[[X,Y]].pivot_table(index=X,columns=Y,aggfunc=len)\n",
    "cont = c.copy()  \n",
    "\n",
    "tx = df_SO[X].value_counts() \n",
    "ty = df_SO[Y].value_counts()  \n",
    "\n",
    "\n",
    "cont.loc[:,\"Total\"] = tx \n",
    "cont.loc[\"total\",:] = ty \n",
    "cont.loc[\"total\",\"Total\"] = len(df_SO)\n",
    "cont"
   ]
  },
  {
   "cell_type": "code",
   "execution_count": 187,
   "metadata": {},
   "outputs": [
    {
     "data": {
      "image/png": "[encoded data removed]",
      "text/plain": [
       "<Figure size 432x288 with 2 Axes>"
      ]
     },
     "metadata": {
      "needs_background": "light"
     },
     "output_type": "display_data"
    }
   ],
   "source": [
    "tx = pd.DataFrame(tx)\n",
    "ty = pd.DataFrame(ty)\n",
    "\n",
    "tx.columns = [\"foo\"]\n",
    "ty.columns = [\"foo\"]\n",
    "\n",
    "n = len(df_SO)\n",
    "indep = tx.dot(ty.T)/n \n",
    "\n",
    "\n",
    "c = c.fillna(0) # On remplace les valeurs nulles par 0\n",
    "measure = (c-indep)**2/indep\n",
    "xi_n = measure.sum().sum()\n",
    "sns.heatmap(measure/xi_n,annot=c)\n",
    "plt.show()"
   ]
  },
  {
   "cell_type": "code",
   "execution_count": 188,
   "metadata": {},
   "outputs": [
    {
     "data": {
      "text/plain": [
       "(10.110865513726571,\n",
       " 0.006374607510181767,\n",
       " 2,\n",
       " array([[101542.56654689,  93727.43345311],\n",
       "        [ 53366.13863817,  49258.86136183],\n",
       "        [  8193.29481494,   7562.70518506]]))"
      ]
     },
     "execution_count": 188,
     "metadata": {},
     "output_type": "execute_result"
    }
   ],
   "source": [
    "# Test du Chi 2\n",
    "chi2, p, dof,expected = stats.chi2_contingency(c)\n",
    "stats.chi2_contingency(c)"
   ]
  },
  {
   "cell_type": "markdown",
   "metadata": {},
   "source": [
    "## [2.2 Corrélation Age et Montant total achat](#sommaire)\n",
    "<a id=\"montant_total_achat\" a>"
   ]
  },
  {
   "cell_type": "code",
   "execution_count": 144,
   "metadata": {},
   "outputs": [],
   "source": [
    "COR1 = dfs[~dfs['client_id'].isin(outliers)].groupby('client_id').agg({'sales_sum':'sum', 'age' :'mean'})"
   ]
  },
  {
   "cell_type": "code",
   "execution_count": 148,
   "metadata": {},
   "outputs": [
    {
     "data": {
      "text/plain": [
       "<statsmodels.regression.linear_model.RegressionResultsWrapper at 0x1c2b19dc88>"
      ]
     },
     "execution_count": 148,
     "metadata": {},
     "output_type": "execute_result"
    }
   ],
   "source": [
    "Y = list(COR1.sales_sum)\n",
    "X = list(COR1.age)\n",
    "result = sm.OLS(Y, X).fit() # OLS = Ordinary Least Square (Moindres Carrés Ordinaire)\n",
    "result"
   ]
  },
  {
   "cell_type": "code",
   "execution_count": 152,
   "metadata": {},
   "outputs": [
    {
     "data": {
      "image/png": "[encoded data removed]",
      "text/plain": [
       "<Figure size 432x288 with 1 Axes>"
      ]
     },
     "metadata": {
      "needs_background": "light"
     },
     "output_type": "display_data"
    }
   ],
   "source": [
    "# Graphique \n",
    "plt.scatter(X,Y)\n",
    "plt.title('Montant total des achats selon age (base DFS)')\n",
    "plt.xlabel('Âge client')\n",
    "plt.ylabel('Montant total des achats')\n",
    "plt.show()"
   ]
  },
  {
   "cell_type": "code",
   "execution_count": 149,
   "metadata": {},
   "outputs": [
    {
     "name": "stdout",
     "output_type": "stream",
     "text": [
      "LinregressResult(slope=-5.2795205188668595, intercept=864.0213054684359, rvalue=-0.19195872602086458, pvalue=3.8610341399322895e-72, stderr=0.2911630965322627)\n"
     ]
    }
   ],
   "source": [
    "# Recherche du coefficient de variation linéaire\n",
    "print(stats.linregress(X,Y))"
   ]
  },
  {
   "cell_type": "code",
   "execution_count": 153,
   "metadata": {},
   "outputs": [
    {
     "data": {
      "text/plain": [
       "SpearmanrResult(correlation=-0.1935893114164797, pvalue=2.315111407762664e-73)"
      ]
     },
     "execution_count": 153,
     "metadata": {},
     "output_type": "execute_result"
    }
   ],
   "source": [
    "# Recherche du coeeficient pour corrélation non linéaire \n",
    "spearmanr(X,Y)"
   ]
  },
  {
   "cell_type": "code",
   "execution_count": 150,
   "metadata": {},
   "outputs": [],
   "source": [
    "# Découpage en catégorie d'age \n",
    "dfs['categ_cor'] = pd.cut(dfs[~dfs['client_id'].isin(outliers)].age,[15,30,50,90],labels=[\"Junior\",\"Middle age\",\"Senior\"])\n",
    "\n",
    "\n"
   ]
  },
  {
   "cell_type": "code",
   "execution_count": 299,
   "metadata": {},
   "outputs": [],
   "source": [
    "COR1['categ_cor'] = pd.cut(COR1.age,[19,30,50,90],labels=[\"Junior\",\"Middle age\",\"Senior\"])"
   ]
  },
  {
   "cell_type": "code",
   "execution_count": 342,
   "metadata": {},
   "outputs": [
    {
     "data": {
      "text/plain": [
       "<matplotlib.axes._subplots.AxesSubplot at 0x1c261dd470>"
      ]
     },
     "execution_count": 342,
     "metadata": {},
     "output_type": "execute_result"
    },
    {
     "data": {
      "image/png": "[encoded data removed]",
      "text/plain": [
       "<Figure size 432x288 with 1 Axes>"
      ]
     },
     "metadata": {
      "needs_background": "light"
     },
     "output_type": "display_data"
    }
   ],
   "source": [
    "# Graphique pour ANOVA \n",
    "medianprops = {'color':\"black\"}\n",
    "meanprops = {'marker':'o', 'markeredgecolor':'black',\n",
    "            'markerfacecolor':'firebrick'}\n",
    "COR1.boxplot(column=\"sales_sum\",by=\"categ_cor\",showfliers=False, medianprops=medianprops, \n",
    "            vert=False, patch_artist=True, showmeans=True, meanprops=meanprops)\n"
   ]
  },
  {
   "cell_type": "code",
   "execution_count": 301,
   "metadata": {},
   "outputs": [
    {
     "data": {
      "text/html": [
       "<div>\n",
       "<style scoped>\n",
       "    .dataframe tbody tr th:only-of-type {\n",
       "        vertical-align: middle;\n",
       "    }\n",
       "\n",
       "    .dataframe tbody tr th {\n",
       "        vertical-align: top;\n",
       "    }\n",
       "\n",
       "    .dataframe thead th {\n",
       "        text-align: right;\n",
       "    }\n",
       "</style>\n",
       "<table border=\"1\" class=\"dataframe\">\n",
       "  <thead>\n",
       "    <tr style=\"text-align: right;\">\n",
       "      <th></th>\n",
       "      <th>sales_sum</th>\n",
       "      <th>age</th>\n",
       "      <th>categ_cor</th>\n",
       "    </tr>\n",
       "    <tr>\n",
       "      <th>client_id</th>\n",
       "      <th></th>\n",
       "      <th></th>\n",
       "      <th></th>\n",
       "    </tr>\n",
       "  </thead>\n",
       "  <tbody>\n",
       "    <tr>\n",
       "      <th>c_1</th>\n",
       "      <td>300.65</td>\n",
       "      <td>67</td>\n",
       "      <td>Senior</td>\n",
       "    </tr>\n",
       "    <tr>\n",
       "      <th>c_10</th>\n",
       "      <td>586.18</td>\n",
       "      <td>66</td>\n",
       "      <td>Senior</td>\n",
       "    </tr>\n",
       "    <tr>\n",
       "      <th>c_100</th>\n",
       "      <td>222.87</td>\n",
       "      <td>30</td>\n",
       "      <td>Junior</td>\n",
       "    </tr>\n",
       "    <tr>\n",
       "      <th>c_1000</th>\n",
       "      <td>1073.00</td>\n",
       "      <td>56</td>\n",
       "      <td>Senior</td>\n",
       "    </tr>\n",
       "    <tr>\n",
       "      <th>c_1001</th>\n",
       "      <td>1102.45</td>\n",
       "      <td>40</td>\n",
       "      <td>Middle age</td>\n",
       "    </tr>\n",
       "  </tbody>\n",
       "</table>\n",
       "</div>"
      ],
      "text/plain": [
       "           sales_sum  age   categ_cor\n",
       "client_id                            \n",
       "c_1           300.65   67      Senior\n",
       "c_10          586.18   66      Senior\n",
       "c_100         222.87   30      Junior\n",
       "c_1000       1073.00   56      Senior\n",
       "c_1001       1102.45   40  Middle age"
      ]
     },
     "execution_count": 301,
     "metadata": {},
     "output_type": "execute_result"
    }
   ],
   "source": [
    "COR1.head()"
   ]
  },
  {
   "cell_type": "code",
   "execution_count": 302,
   "metadata": {},
   "outputs": [
    {
     "data": {
      "text/html": [
       "<div>\n",
       "<style scoped>\n",
       "    .dataframe tbody tr th:only-of-type {\n",
       "        vertical-align: middle;\n",
       "    }\n",
       "\n",
       "    .dataframe tbody tr th {\n",
       "        vertical-align: top;\n",
       "    }\n",
       "\n",
       "    .dataframe thead th {\n",
       "        text-align: right;\n",
       "    }\n",
       "</style>\n",
       "<table border=\"1\" class=\"dataframe\">\n",
       "  <thead>\n",
       "    <tr style=\"text-align: right;\">\n",
       "      <th></th>\n",
       "      <th>df</th>\n",
       "      <th>sum_sq</th>\n",
       "      <th>mean_sq</th>\n",
       "      <th>F</th>\n",
       "      <th>PR(&gt;F)</th>\n",
       "    </tr>\n",
       "  </thead>\n",
       "  <tbody>\n",
       "    <tr>\n",
       "      <th>categ_cor</th>\n",
       "      <td>2.0</td>\n",
       "      <td>1.607591e+08</td>\n",
       "      <td>8.037957e+07</td>\n",
       "      <td>407.427286</td>\n",
       "      <td>3.157484e-169</td>\n",
       "    </tr>\n",
       "    <tr>\n",
       "      <th>Residual</th>\n",
       "      <td>8000.0</td>\n",
       "      <td>1.578285e+09</td>\n",
       "      <td>1.972857e+05</td>\n",
       "      <td>NaN</td>\n",
       "      <td>NaN</td>\n",
       "    </tr>\n",
       "  </tbody>\n",
       "</table>\n",
       "</div>"
      ],
      "text/plain": [
       "               df        sum_sq       mean_sq           F         PR(>F)\n",
       "categ_cor     2.0  1.607591e+08  8.037957e+07  407.427286  3.157484e-169\n",
       "Residual   8000.0  1.578285e+09  1.972857e+05         NaN            NaN"
      ]
     },
     "execution_count": 302,
     "metadata": {},
     "output_type": "execute_result"
    }
   ],
   "source": [
    "# ANOVA POUR COR1\n",
    "COR1_DF = COR1.loc[:,['sales_sum', 'categ_cor']] \n",
    "COR1_ANOVA = statsmodels.formula.api.ols('sales_sum ~ categ_cor', data = COR1_DF).fit()\n",
    "table = statsmodels.api.stats.anova_lm(COR1_ANOVA)\n",
    "table"
   ]
  },
  {
   "cell_type": "code",
   "execution_count": 303,
   "metadata": {},
   "outputs": [
    {
     "name": "stdout",
     "output_type": "stream",
     "text": [
      "                       Results: Ordinary least squares\n",
      "==============================================================================\n",
      "Model:                  OLS                 Adj. R-squared:        0.092      \n",
      "Dependent Variable:     sales_sum           AIC:                   120290.3719\n",
      "Date:                   2019-11-20 21:54    BIC:                   120311.3347\n",
      "No. Observations:       8003                Log-Likelihood:        -60142.    \n",
      "Df Model:               2                   F-statistic:           407.4      \n",
      "Df Residuals:           8000                Prob (F-statistic):    3.16e-169  \n",
      "R-squared:              0.092               Scale:                 1.9729e+05 \n",
      "------------------------------------------------------------------------------\n",
      "                          Coef.   Std.Err.    t     P>|t|    [0.025    0.975] \n",
      "------------------------------------------------------------------------------\n",
      "Intercept                644.8609  10.8237  59.5785 0.0000  623.6436  666.0783\n",
      "categ_cor[T.Middle age]  131.3324  13.2583   9.9057 0.0000  105.3428  157.3221\n",
      "categ_cor[T.Senior]     -187.9222  13.5624 -13.8561 0.0000 -214.5081 -161.3363\n",
      "------------------------------------------------------------------------------\n",
      "Omnibus:                 1008.511          Durbin-Watson:             1.976   \n",
      "Prob(Omnibus):           0.000             Jarque-Bera (JB):          1436.292\n",
      "Skew:                    0.975             Prob(JB):                  0.000   \n",
      "Kurtosis:                3.711             Condition No.:             5       \n",
      "==============================================================================\n",
      "\n"
     ]
    }
   ],
   "source": [
    "print(COR1_ANOVA.summary2())"
   ]
  },
  {
   "cell_type": "markdown",
   "metadata": {},
   "source": [
    "## [2.3 Corrélation Age et fréquence des achats](#sommaire)\n",
    "<a id=\"frequence_achat\" a>"
   ]
  },
  {
   "cell_type": "code",
   "execution_count": 457,
   "metadata": {},
   "outputs": [
    {
     "data": {
      "text/html": [
       "<div>\n",
       "<style scoped>\n",
       "    .dataframe tbody tr th:only-of-type {\n",
       "        vertical-align: middle;\n",
       "    }\n",
       "\n",
       "    .dataframe tbody tr th {\n",
       "        vertical-align: top;\n",
       "    }\n",
       "\n",
       "    .dataframe thead th {\n",
       "        text-align: right;\n",
       "    }\n",
       "</style>\n",
       "<table border=\"1\" class=\"dataframe\">\n",
       "  <thead>\n",
       "    <tr style=\"text-align: right;\">\n",
       "      <th></th>\n",
       "      <th>client_id</th>\n",
       "      <th>session_id</th>\n",
       "      <th>age</th>\n",
       "      <th>Freq_achat</th>\n",
       "    </tr>\n",
       "  </thead>\n",
       "  <tbody>\n",
       "    <tr>\n",
       "      <th>0</th>\n",
       "      <td>c_1</td>\n",
       "      <td>15</td>\n",
       "      <td>67</td>\n",
       "      <td>1.250000</td>\n",
       "    </tr>\n",
       "    <tr>\n",
       "      <th>1</th>\n",
       "      <td>c_10</td>\n",
       "      <td>16</td>\n",
       "      <td>66</td>\n",
       "      <td>1.333333</td>\n",
       "    </tr>\n",
       "    <tr>\n",
       "      <th>2</th>\n",
       "      <td>c_100</td>\n",
       "      <td>3</td>\n",
       "      <td>30</td>\n",
       "      <td>0.250000</td>\n",
       "    </tr>\n",
       "    <tr>\n",
       "      <th>3</th>\n",
       "      <td>c_1000</td>\n",
       "      <td>42</td>\n",
       "      <td>56</td>\n",
       "      <td>3.500000</td>\n",
       "    </tr>\n",
       "    <tr>\n",
       "      <th>4</th>\n",
       "      <td>c_1001</td>\n",
       "      <td>24</td>\n",
       "      <td>40</td>\n",
       "      <td>2.000000</td>\n",
       "    </tr>\n",
       "  </tbody>\n",
       "</table>\n",
       "</div>"
      ],
      "text/plain": [
       "  client_id  session_id  age  Freq_achat\n",
       "0       c_1          15   67    1.250000\n",
       "1      c_10          16   66    1.333333\n",
       "2     c_100           3   30    0.250000\n",
       "3    c_1000          42   56    3.500000\n",
       "4    c_1001          24   40    2.000000"
      ]
     },
     "execution_count": 457,
     "metadata": {},
     "output_type": "execute_result"
    }
   ],
   "source": [
    "COR2 = df[~df['client_id'].isin(outliers)].drop_duplicates(subset='session_id', keep=\"last\").groupby(['client_id']).agg({'session_id':'count', 'age' :'max'}).reset_index()\n",
    "COR2['Freq_achat'] = COR2.session_id /12\n",
    "COR2.head()\n",
    "\n"
   ]
  },
  {
   "cell_type": "code",
   "execution_count": 351,
   "metadata": {},
   "outputs": [
    {
     "data": {
      "image/png": "[encoded data removed]",
      "text/plain": [
       "<Figure size 432x288 with 1 Axes>"
      ]
     },
     "metadata": {
      "needs_background": "light"
     },
     "output_type": "display_data"
    }
   ],
   "source": [
    "# Graphique \n",
    "plt.scatter(X2,Y2)\n",
    "plt.title('Frequence achat mensuelle selon age')\n",
    "plt.xlabel('Âge client')\n",
    "plt.ylabel('Nombre de sessions')\n",
    "plt.show()"
   ]
  },
  {
   "cell_type": "code",
   "execution_count": 264,
   "metadata": {},
   "outputs": [
    {
     "name": "stdout",
     "output_type": "stream",
     "text": [
      "LinregressResult(slope=0.01256549305797306, intercept=0.9802486265439283, rvalue=0.16783790814630994, pvalue=2.4242502199031183e-55, stderr=0.0007961356107298006)\n"
     ]
    }
   ],
   "source": [
    "# Recherche du coefficient de variation linéaire\n",
    "print(stats.linregress(X2,Y2))"
   ]
  },
  {
   "cell_type": "code",
   "execution_count": 265,
   "metadata": {},
   "outputs": [
    {
     "data": {
      "text/plain": [
       "SpearmanrResult(correlation=0.2176122944410512, pvalue=1.1556411023609474e-92)"
      ]
     },
     "execution_count": 265,
     "metadata": {},
     "output_type": "execute_result"
    }
   ],
   "source": [
    "# Recherche du coeeficient pour corrélation non linéaire \n",
    "spearmanr(X2,Y2)"
   ]
  },
  {
   "cell_type": "code",
   "execution_count": 305,
   "metadata": {},
   "outputs": [],
   "source": [
    "COR2['categ_cor'] = pd.cut(COR2.age,[19,30,50,90],labels=[\"Junior\",\"Middle age\",\"Senior\"])"
   ]
  },
  {
   "cell_type": "code",
   "execution_count": 306,
   "metadata": {},
   "outputs": [
    {
     "data": {
      "text/plain": [
       "<matplotlib.axes._subplots.AxesSubplot at 0x1c32ea4828>"
      ]
     },
     "execution_count": 306,
     "metadata": {},
     "output_type": "execute_result"
    },
    {
     "data": {
      "image/png": "[encoded data removed]",
      "text/plain": [
       "<Figure size 432x288 with 1 Axes>"
      ]
     },
     "metadata": {
      "needs_background": "light"
     },
     "output_type": "display_data"
    }
   ],
   "source": [
    "# Graphique pour ANOVA \n",
    "medianprops = {'color':\"black\"}\n",
    "meanprops = {'marker':'o', 'markeredgecolor':'black',\n",
    "            'markerfacecolor':'firebrick'}\n",
    "COR2.boxplot(column=\"Freq_achat\",by=\"categ_cor\",showfliers=False, medianprops=medianprops, \n",
    "            vert=False, patch_artist=True, showmeans=True, meanprops=meanprops)\n"
   ]
  },
  {
   "cell_type": "code",
   "execution_count": 344,
   "metadata": {},
   "outputs": [
    {
     "data": {
      "text/html": [
       "<div>\n",
       "<style scoped>\n",
       "    .dataframe tbody tr th:only-of-type {\n",
       "        vertical-align: middle;\n",
       "    }\n",
       "\n",
       "    .dataframe tbody tr th {\n",
       "        vertical-align: top;\n",
       "    }\n",
       "\n",
       "    .dataframe thead th {\n",
       "        text-align: right;\n",
       "    }\n",
       "</style>\n",
       "<table border=\"1\" class=\"dataframe\">\n",
       "  <thead>\n",
       "    <tr style=\"text-align: right;\">\n",
       "      <th></th>\n",
       "      <th>df</th>\n",
       "      <th>sum_sq</th>\n",
       "      <th>mean_sq</th>\n",
       "      <th>F</th>\n",
       "      <th>PR(&gt;F)</th>\n",
       "    </tr>\n",
       "  </thead>\n",
       "  <tbody>\n",
       "    <tr>\n",
       "      <th>categ_cor</th>\n",
       "      <td>2.0</td>\n",
       "      <td>1786.882638</td>\n",
       "      <td>893.441319</td>\n",
       "      <td>621.771403</td>\n",
       "      <td>1.014194e-251</td>\n",
       "    </tr>\n",
       "    <tr>\n",
       "      <th>Residual</th>\n",
       "      <td>8000.0</td>\n",
       "      <td>11495.431463</td>\n",
       "      <td>1.436929</td>\n",
       "      <td>NaN</td>\n",
       "      <td>NaN</td>\n",
       "    </tr>\n",
       "  </tbody>\n",
       "</table>\n",
       "</div>"
      ],
      "text/plain": [
       "               df        sum_sq     mean_sq           F         PR(>F)\n",
       "categ_cor     2.0   1786.882638  893.441319  621.771403  1.014194e-251\n",
       "Residual   8000.0  11495.431463    1.436929         NaN            NaN"
      ]
     },
     "execution_count": 344,
     "metadata": {},
     "output_type": "execute_result"
    }
   ],
   "source": [
    "# ANOVA POUR COR2\n",
    "COR2_DF = COR2.loc[:,['Freq_achat', 'categ_cor']] \n",
    "COR2_ANOVA = statsmodels.formula.api.ols('Freq_achat ~ categ_cor', data = COR2_DF).fit()\n",
    "table2 = statsmodels.api.stats.anova_lm(COR2_ANOVA)\n",
    "table2"
   ]
  },
  {
   "cell_type": "code",
   "execution_count": 343,
   "metadata": {},
   "outputs": [
    {
     "name": "stdout",
     "output_type": "stream",
     "text": [
      "                  Results: Ordinary least squares\n",
      "====================================================================\n",
      "Model:               OLS              Adj. R-squared:     0.134     \n",
      "Dependent Variable:  Freq_achat       AIC:                25615.6823\n",
      "Date:                2019-11-24 22:10 BIC:                25636.6450\n",
      "No. Observations:    8003             Log-Likelihood:     -12805.   \n",
      "Df Model:            2                F-statistic:        621.8     \n",
      "Df Residuals:        8000             Prob (F-statistic): 1.01e-251 \n",
      "R-squared:           0.135            Scale:              1.4369    \n",
      "--------------------------------------------------------------------\n",
      "                        Coef.  Std.Err.    t    P>|t|  [0.025 0.975]\n",
      "--------------------------------------------------------------------\n",
      "Intercept               0.7502   0.0292 25.6820 0.0000 0.6929 0.8075\n",
      "categ_cor[T.Middle age] 1.2616   0.0358 35.2583 0.0000 1.1914 1.3317\n",
      "categ_cor[T.Senior]     0.8234   0.0366 22.4952 0.0000 0.7516 0.8951\n",
      "--------------------------------------------------------------------\n",
      "Omnibus:             1163.295       Durbin-Watson:          1.993   \n",
      "Prob(Omnibus):       0.000          Jarque-Bera (JB):       1743.675\n",
      "Skew:                1.068          Prob(JB):               0.000   \n",
      "Kurtosis:            3.817          Condition No.:          5       \n",
      "====================================================================\n",
      "\n"
     ]
    }
   ],
   "source": [
    "print(COR2_ANOVA.summary2())"
   ]
  },
  {
   "cell_type": "markdown",
   "metadata": {},
   "source": [
    "## [2.4 Corrélation Age et panier moyen d'achats](#sommaire)\n",
    "<a id=\"panier_moyen\" a>"
   ]
  },
  {
   "cell_type": "code",
   "execution_count": 245,
   "metadata": {},
   "outputs": [],
   "source": [
    "COR3 = dfs[~dfs['client_id'].isin(outliers)].groupby('client_id').agg({'sales_count':'mean', 'age' :'mean'})"
   ]
  },
  {
   "cell_type": "code",
   "execution_count": 246,
   "metadata": {},
   "outputs": [
    {
     "data": {
      "text/html": [
       "<div>\n",
       "<style scoped>\n",
       "    .dataframe tbody tr th:only-of-type {\n",
       "        vertical-align: middle;\n",
       "    }\n",
       "\n",
       "    .dataframe tbody tr th {\n",
       "        vertical-align: top;\n",
       "    }\n",
       "\n",
       "    .dataframe thead th {\n",
       "        text-align: right;\n",
       "    }\n",
       "</style>\n",
       "<table border=\"1\" class=\"dataframe\">\n",
       "  <thead>\n",
       "    <tr style=\"text-align: right;\">\n",
       "      <th></th>\n",
       "      <th>Nbre_article_panier</th>\n",
       "      <th>age</th>\n",
       "    </tr>\n",
       "    <tr>\n",
       "      <th>client_id</th>\n",
       "      <th></th>\n",
       "      <th></th>\n",
       "    </tr>\n",
       "  </thead>\n",
       "  <tbody>\n",
       "    <tr>\n",
       "      <th>c_1</th>\n",
       "      <td>1.333333</td>\n",
       "      <td>67</td>\n",
       "    </tr>\n",
       "    <tr>\n",
       "      <th>c_10</th>\n",
       "      <td>1.750000</td>\n",
       "      <td>66</td>\n",
       "    </tr>\n",
       "    <tr>\n",
       "      <th>c_100</th>\n",
       "      <td>2.000000</td>\n",
       "      <td>30</td>\n",
       "    </tr>\n",
       "    <tr>\n",
       "      <th>c_1000</th>\n",
       "      <td>1.441860</td>\n",
       "      <td>56</td>\n",
       "    </tr>\n",
       "    <tr>\n",
       "      <th>c_1001</th>\n",
       "      <td>2.416667</td>\n",
       "      <td>40</td>\n",
       "    </tr>\n",
       "  </tbody>\n",
       "</table>\n",
       "</div>"
      ],
      "text/plain": [
       "           Nbre_article_panier  age\n",
       "client_id                          \n",
       "c_1                   1.333333   67\n",
       "c_10                  1.750000   66\n",
       "c_100                 2.000000   30\n",
       "c_1000                1.441860   56\n",
       "c_1001                2.416667   40"
      ]
     },
     "execution_count": 246,
     "metadata": {},
     "output_type": "execute_result"
    }
   ],
   "source": [
    "COR3.columns = ['Nbre_article_panier','age']\n",
    "COR3.head()"
   ]
  },
  {
   "cell_type": "code",
   "execution_count": 247,
   "metadata": {},
   "outputs": [
    {
     "data": {
      "text/plain": [
       "<statsmodels.regression.linear_model.RegressionResultsWrapper at 0x1c244fdda0>"
      ]
     },
     "execution_count": 247,
     "metadata": {},
     "output_type": "execute_result"
    }
   ],
   "source": [
    "Y3 = list(COR3.Nbre_article_panier)\n",
    "X3 = list(COR3.age)\n",
    "result = sm.OLS(Y, X).fit() # OLS = Ordinary Least Square (Moindres Carrés Ordinaire)\n",
    "result"
   ]
  },
  {
   "cell_type": "code",
   "execution_count": 248,
   "metadata": {},
   "outputs": [
    {
     "data": {
      "image/png": "[encoded data removed]",
      "text/plain": [
       "<Figure size 432x288 with 1 Axes>"
      ]
     },
     "metadata": {
      "needs_background": "light"
     },
     "output_type": "display_data"
    }
   ],
   "source": [
    "# Graphique \n",
    "plt.scatter(X3,Y3)\n",
    "plt.title('Panier moyen en nombre articles selon age (base DFS)')\n",
    "plt.xlabel('Âge client')\n",
    "plt.ylabel('Nombre articles')\n",
    "plt.show()"
   ]
  },
  {
   "cell_type": "code",
   "execution_count": 249,
   "metadata": {},
   "outputs": [
    {
     "name": "stdout",
     "output_type": "stream",
     "text": [
      "LinregressResult(slope=-0.008731560381481858, intercept=2.3748845571368222, rvalue=-0.22739402518765542, pvalue=3.1418965301098976e-101, stderr=0.00040335381711714013)\n"
     ]
    }
   ],
   "source": [
    "# Recherche du coefficient de variation linéaire\n",
    "print(stats.linregress(X3,Y3))"
   ]
  },
  {
   "cell_type": "code",
   "execution_count": 250,
   "metadata": {},
   "outputs": [
    {
     "data": {
      "text/plain": [
       "SpearmanrResult(correlation=-0.2196141939850719, pvalue=2.2052559921350642e-94)"
      ]
     },
     "execution_count": 250,
     "metadata": {},
     "output_type": "execute_result"
    }
   ],
   "source": [
    "# Recherche du coeeficient pour corrélation non linéaire \n",
    "spearmanr(X3,Y3)"
   ]
  },
  {
   "cell_type": "code",
   "execution_count": 309,
   "metadata": {},
   "outputs": [],
   "source": [
    "COR3['categ_cor'] = pd.cut(COR3.age,[19,30,50,90],labels=[\"Junior\",\"Middle age\",\"Senior\"])"
   ]
  },
  {
   "cell_type": "code",
   "execution_count": 310,
   "metadata": {},
   "outputs": [
    {
     "data": {
      "text/plain": [
       "<matplotlib.axes._subplots.AxesSubplot at 0x1c2c3ef978>"
      ]
     },
     "execution_count": 310,
     "metadata": {},
     "output_type": "execute_result"
    },
    {
     "data": {
      "image/png": "[encoded data removed]",
      "text/plain": [
       "<Figure size 432x288 with 1 Axes>"
      ]
     },
     "metadata": {
      "needs_background": "light"
     },
     "output_type": "display_data"
    }
   ],
   "source": [
    "# Graphique pour ANOVA \n",
    "medianprops = {'color':\"black\"}\n",
    "meanprops = {'marker':'o', 'markeredgecolor':'black',\n",
    "            'markerfacecolor':'firebrick'}\n",
    "COR3.boxplot(column=\"Nbre_article_panier\",by=\"categ_cor\",showfliers=False, medianprops=medianprops, \n",
    "            vert=False, patch_artist=True, showmeans=True, meanprops=meanprops)\n"
   ]
  },
  {
   "cell_type": "code",
   "execution_count": 345,
   "metadata": {},
   "outputs": [
    {
     "data": {
      "text/html": [
       "<div>\n",
       "<style scoped>\n",
       "    .dataframe tbody tr th:only-of-type {\n",
       "        vertical-align: middle;\n",
       "    }\n",
       "\n",
       "    .dataframe tbody tr th {\n",
       "        vertical-align: top;\n",
       "    }\n",
       "\n",
       "    .dataframe thead th {\n",
       "        text-align: right;\n",
       "    }\n",
       "</style>\n",
       "<table border=\"1\" class=\"dataframe\">\n",
       "  <thead>\n",
       "    <tr style=\"text-align: right;\">\n",
       "      <th></th>\n",
       "      <th>df</th>\n",
       "      <th>sum_sq</th>\n",
       "      <th>mean_sq</th>\n",
       "      <th>F</th>\n",
       "      <th>PR(&gt;F)</th>\n",
       "    </tr>\n",
       "  </thead>\n",
       "  <tbody>\n",
       "    <tr>\n",
       "      <th>categ_cor</th>\n",
       "      <td>2.0</td>\n",
       "      <td>1321.531313</td>\n",
       "      <td>660.765656</td>\n",
       "      <td>2598.633176</td>\n",
       "      <td>0.0</td>\n",
       "    </tr>\n",
       "    <tr>\n",
       "      <th>Residual</th>\n",
       "      <td>8000.0</td>\n",
       "      <td>2034.194476</td>\n",
       "      <td>0.254274</td>\n",
       "      <td>NaN</td>\n",
       "      <td>NaN</td>\n",
       "    </tr>\n",
       "  </tbody>\n",
       "</table>\n",
       "</div>"
      ],
      "text/plain": [
       "               df       sum_sq     mean_sq            F  PR(>F)\n",
       "categ_cor     2.0  1321.531313  660.765656  2598.633176     0.0\n",
       "Residual   8000.0  2034.194476    0.254274          NaN     NaN"
      ]
     },
     "execution_count": 345,
     "metadata": {},
     "output_type": "execute_result"
    }
   ],
   "source": [
    "# ANOVA POUR COR3\n",
    "COR3_DF = COR3.loc[:,['Nbre_article_panier', 'categ_cor']] \n",
    "COR3_ANOVA = statsmodels.formula.api.ols('Nbre_article_panier ~ categ_cor', data = COR3_DF).fit()\n",
    "table3 = statsmodels.api.stats.anova_lm(COR3_ANOVA)\n",
    "table3"
   ]
  },
  {
   "cell_type": "code",
   "execution_count": 346,
   "metadata": {},
   "outputs": [
    {
     "name": "stdout",
     "output_type": "stream",
     "text": [
      "                    Results: Ordinary least squares\n",
      "========================================================================\n",
      "Model:                OLS                 Adj. R-squared:     0.394     \n",
      "Dependent Variable:   Nbre_article_panier AIC:                11755.6885\n",
      "Date:                 2019-11-24 22:14    BIC:                11776.6512\n",
      "No. Observations:     8003                Log-Likelihood:     -5874.8   \n",
      "Df Model:             2                   F-statistic:        2599.     \n",
      "Df Residuals:         8000                Prob (F-statistic): 0.00      \n",
      "R-squared:            0.394               Scale:              0.25427   \n",
      "------------------------------------------------------------------------\n",
      "                         Coef.  Std.Err.    t     P>|t|   [0.025  0.975]\n",
      "------------------------------------------------------------------------\n",
      "Intercept                1.8414   0.0123 149.8503 0.0000  1.8173  1.8654\n",
      "categ_cor[T.Middle age]  0.6278   0.0151  41.7085 0.0000  0.5983  0.6573\n",
      "categ_cor[T.Senior]     -0.2684   0.0154 -17.4348 0.0000 -0.2986 -0.2383\n",
      "------------------------------------------------------------------------\n",
      "Omnibus:              3251.102        Durbin-Watson:           1.960    \n",
      "Prob(Omnibus):        0.000           Jarque-Bera (JB):        19202.159\n",
      "Skew:                 1.855           Prob(JB):                0.000    \n",
      "Kurtosis:             9.620           Condition No.:           5        \n",
      "========================================================================\n",
      "\n"
     ]
    }
   ],
   "source": [
    "print(COR3_ANOVA.summary2())"
   ]
  },
  {
   "cell_type": "markdown",
   "metadata": {},
   "source": [
    "## [2.5 Corrélation Age et catégories de produits achetés](#sommaire)\n",
    "<a id=\"produit_achetés\" a>"
   ]
  },
  {
   "cell_type": "code",
   "execution_count": 439,
   "metadata": {},
   "outputs": [],
   "source": [
    "df['categ_cor'] = pd.cut(df.age,[19,30,50,90],labels=[\"Junior\",\"Middle age\",\"Senior\"])"
   ]
  },
  {
   "cell_type": "code",
   "execution_count": 440,
   "metadata": {},
   "outputs": [],
   "source": [
    "DF_COR4 = df[~df['client_id'].isin(outliers)].loc[:,['categ', 'categ_cor','age']]"
   ]
  },
  {
   "cell_type": "code",
   "execution_count": 441,
   "metadata": {},
   "outputs": [],
   "source": [
    "DF_COR4 = DF_COR4[DF_COR4.age > 18]"
   ]
  },
  {
   "cell_type": "code",
   "execution_count": 442,
   "metadata": {},
   "outputs": [],
   "source": [
    "DF_COR4.categ = DF_COR4[\"categ\"].astype('object')"
   ]
  },
  {
   "cell_type": "code",
   "execution_count": 443,
   "metadata": {},
   "outputs": [
    {
     "data": {
      "text/html": [
       "<div>\n",
       "<style scoped>\n",
       "    .dataframe tbody tr th:only-of-type {\n",
       "        vertical-align: middle;\n",
       "    }\n",
       "\n",
       "    .dataframe tbody tr th {\n",
       "        vertical-align: top;\n",
       "    }\n",
       "\n",
       "    .dataframe thead th {\n",
       "        text-align: right;\n",
       "    }\n",
       "</style>\n",
       "<table border=\"1\" class=\"dataframe\">\n",
       "  <thead>\n",
       "    <tr style=\"text-align: right;\">\n",
       "      <th></th>\n",
       "      <th>categ</th>\n",
       "      <th>categ_cor</th>\n",
       "      <th>age</th>\n",
       "    </tr>\n",
       "  </thead>\n",
       "  <tbody>\n",
       "    <tr>\n",
       "      <th>0</th>\n",
       "      <td>0</td>\n",
       "      <td>Middle age</td>\n",
       "      <td>45</td>\n",
       "    </tr>\n",
       "    <tr>\n",
       "      <th>1</th>\n",
       "      <td>2</td>\n",
       "      <td>Junior</td>\n",
       "      <td>22</td>\n",
       "    </tr>\n",
       "    <tr>\n",
       "      <th>2</th>\n",
       "      <td>1</td>\n",
       "      <td>Middle age</td>\n",
       "      <td>43</td>\n",
       "    </tr>\n",
       "    <tr>\n",
       "      <th>3</th>\n",
       "      <td>0</td>\n",
       "      <td>Senior</td>\n",
       "      <td>59</td>\n",
       "    </tr>\n",
       "    <tr>\n",
       "      <th>4</th>\n",
       "      <td>0</td>\n",
       "      <td>Middle age</td>\n",
       "      <td>42</td>\n",
       "    </tr>\n",
       "  </tbody>\n",
       "</table>\n",
       "</div>"
      ],
      "text/plain": [
       "  categ   categ_cor  age\n",
       "0     0  Middle age   45\n",
       "1     2      Junior   22\n",
       "2     1  Middle age   43\n",
       "3     0      Senior   59\n",
       "4     0  Middle age   42"
      ]
     },
     "execution_count": 443,
     "metadata": {},
     "output_type": "execute_result"
    }
   ],
   "source": [
    "DF_COR4.head()"
   ]
  },
  {
   "cell_type": "code",
   "execution_count": 444,
   "metadata": {},
   "outputs": [
    {
     "data": {
      "text/plain": [
       "categ          object\n",
       "categ_cor    category\n",
       "age             int64\n",
       "dtype: object"
      ]
     },
     "execution_count": 444,
     "metadata": {},
     "output_type": "execute_result"
    }
   ],
   "source": [
    "DF_COR4.dtypes"
   ]
  },
  {
   "cell_type": "code",
   "execution_count": 445,
   "metadata": {},
   "outputs": [
    {
     "data": {
      "text/plain": [
       "<matplotlib.axes._subplots.AxesSubplot at 0x1c335ab048>"
      ]
     },
     "execution_count": 445,
     "metadata": {},
     "output_type": "execute_result"
    },
    {
     "data": {
      "image/png": "[encoded data removed]",
      "text/plain": [
       "<Figure size 432x288 with 1 Axes>"
      ]
     },
     "metadata": {
      "needs_background": "light"
     },
     "output_type": "display_data"
    }
   ],
   "source": [
    "# Graphique pour ANOVA \n",
    "medianprops = {'color':\"black\"}\n",
    "meanprops = {'marker':'o', 'markeredgecolor':'black',\n",
    "            'markerfacecolor':'firebrick'}\n",
    "DF_COR4.boxplot(column=\"age\",by=\"categ\",showfliers=False, medianprops=medianprops, \n",
    "            vert=False, patch_artist=True, showmeans=True, meanprops=meanprops)\n"
   ]
  },
  {
   "cell_type": "code",
   "execution_count": 448,
   "metadata": {},
   "outputs": [
    {
     "data": {
      "text/html": [
       "<div>\n",
       "<style scoped>\n",
       "    .dataframe tbody tr th:only-of-type {\n",
       "        vertical-align: middle;\n",
       "    }\n",
       "\n",
       "    .dataframe tbody tr th {\n",
       "        vertical-align: top;\n",
       "    }\n",
       "\n",
       "    .dataframe thead th {\n",
       "        text-align: right;\n",
       "    }\n",
       "</style>\n",
       "<table border=\"1\" class=\"dataframe\">\n",
       "  <thead>\n",
       "    <tr style=\"text-align: right;\">\n",
       "      <th></th>\n",
       "      <th>df</th>\n",
       "      <th>sum_sq</th>\n",
       "      <th>mean_sq</th>\n",
       "      <th>F</th>\n",
       "      <th>PR(&gt;F)</th>\n",
       "    </tr>\n",
       "  </thead>\n",
       "  <tbody>\n",
       "    <tr>\n",
       "      <th>categ</th>\n",
       "      <td>2.0</td>\n",
       "      <td>5.422069e+06</td>\n",
       "      <td>2.711035e+06</td>\n",
       "      <td>16906.727812</td>\n",
       "      <td>0.0</td>\n",
       "    </tr>\n",
       "    <tr>\n",
       "      <th>Residual</th>\n",
       "      <td>306300.0</td>\n",
       "      <td>4.911594e+07</td>\n",
       "      <td>1.603524e+02</td>\n",
       "      <td>NaN</td>\n",
       "      <td>NaN</td>\n",
       "    </tr>\n",
       "  </tbody>\n",
       "</table>\n",
       "</div>"
      ],
      "text/plain": [
       "                df        sum_sq       mean_sq             F  PR(>F)\n",
       "categ          2.0  5.422069e+06  2.711035e+06  16906.727812     0.0\n",
       "Residual  306300.0  4.911594e+07  1.603524e+02           NaN     NaN"
      ]
     },
     "execution_count": 448,
     "metadata": {},
     "output_type": "execute_result"
    }
   ],
   "source": [
    "# ANOVA POUR COR4\n",
    "DF_COR4 = DF_COR4.loc[:,['age', 'categ']] \n",
    "COR4_ANOVA = statsmodels.formula.api.ols('age ~ categ', data = DF_COR4).fit()\n",
    "table4 = statsmodels.api.stats.anova_lm(COR4_ANOVA)\n",
    "table4"
   ]
  },
  {
   "cell_type": "code",
   "execution_count": 449,
   "metadata": {},
   "outputs": [
    {
     "name": "stdout",
     "output_type": "stream",
     "text": [
      "                   Results: Ordinary least squares\n",
      "=====================================================================\n",
      "Model:              OLS              Adj. R-squared:     0.099       \n",
      "Dependent Variable: age              AIC:                2424468.1357\n",
      "Date:               2019-11-26 21:53 BIC:                2424500.0327\n",
      "No. Observations:   306303           Log-Likelihood:     -1.2122e+06 \n",
      "Df Model:           2                F-statistic:        1.691e+04   \n",
      "Df Residuals:       306300           Prob (F-statistic): 0.00        \n",
      "R-squared:          0.099            Scale:              160.35      \n",
      "---------------------------------------------------------------------\n",
      "                  Coef.   Std.Err.     t     P>|t|   [0.025   0.975] \n",
      "---------------------------------------------------------------------\n",
      "Intercept         44.0222   0.0288 1529.6373 0.0000  43.9657  44.0786\n",
      "categ[T.1.0]       4.6154   0.0493   93.5518 0.0000   4.5187   4.7121\n",
      "categ[T.2.0]     -16.5069   0.1154 -143.0169 0.0000 -16.7331 -16.2807\n",
      "---------------------------------------------------------------------\n",
      "Omnibus:              25914.744      Durbin-Watson:         2.002    \n",
      "Prob(Omnibus):        0.000          Jarque-Bera (JB):      34810.447\n",
      "Skew:                 0.721          Prob(JB):              0.000    \n",
      "Kurtosis:             3.805          Condition No.:         5        \n",
      "=====================================================================\n",
      "\n"
     ]
    }
   ],
   "source": [
    "print(COR4_ANOVA.summary2())"
   ]
  }
 ],
 "metadata": {
  "kernelspec": {
   "display_name": "Python 3",
   "language": "python",
   "name": "python3"
  },
  "language_info": {
   "codemirror_mode": {
    "name": "ipython",
    "version": 3
   },
   "file_extension": ".py",
   "mimetype": "text/x-python",
   "name": "python",
   "nbconvert_exporter": "python",
   "pygments_lexer": "ipython3",
   "version": "3.7.7"
  }
 },
 "nbformat": 4,
 "nbformat_minor": 2
}
