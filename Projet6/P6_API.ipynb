{
 "cells": [
  {
   "cell_type": "code",
   "execution_count": 4,
   "metadata": {},
   "outputs": [],
   "source": [
    "from flask import Flask, jsonify, request\n",
    "from flask_cors import CORS, cross_origin\n",
    "import pickle\n",
    "import pandas as pd"
   ]
  },
  {
   "cell_type": "code",
   "execution_count": 7,
   "metadata": {},
   "outputs": [],
   "source": [
    "from joblib import dump, load\n",
    "logreg2 = load('export_logreg2.joblib') "
   ]
  },
  {
   "cell_type": "code",
   "execution_count": 11,
   "metadata": {},
   "outputs": [
    {
     "name": "stdout",
     "output_type": "stream",
     "text": [
      "Prediction:  [0 0 0 1 1]\n",
      "Probabilities:  [[0.98408896 0.01591104]\n",
      " [0.98928274 0.01071726]\n",
      " [0.9554289  0.0445711 ]\n",
      " [0.05566    0.94434   ]\n",
      " [0.00815418 0.99184582]]\n"
     ]
    }
   ],
   "source": [
    "# Test model with data frame\n",
    "example = pd.read_csv(\"example.csv\")\n",
    "example = example[['diagonal', 'margin_low','length']].values\n",
    "\n",
    "# Get the model's prediction\n",
    "prediction = logreg2.predict(example)\n",
    "print(\"Prediction: \", prediction)\n",
    "prediction_proba = logreg2.predict_proba(example)\n",
    "print(\"Probabilities: \", prediction_proba)"
   ]
  },
  {
   "cell_type": "code",
   "execution_count": 13,
   "metadata": {},
   "outputs": [
    {
     "name": "stdout",
     "output_type": "stream",
     "text": [
      " * Serving Flask app \"__main__\" (lazy loading)\n",
      " * Environment: production\n",
      "   WARNING: Do not use the development server in a production environment.\n",
      "   Use a production WSGI server instead.\n",
      " * Debug mode: on\n"
     ]
    },
    {
     "name": "stderr",
     "output_type": "stream",
     "text": [
      " * Running on http://0.0.0.0:8585/ (Press CTRL+C to quit)\n",
      " * Restarting with stat\n"
     ]
    },
    {
     "ename": "SystemExit",
     "evalue": "1",
     "output_type": "error",
     "traceback": [
      "An exception has occurred, use %tb to see the full traceback.\n",
      "\u001b[0;31mSystemExit\u001b[0m\u001b[0;31m:\u001b[0m 1\n"
     ]
    },
    {
     "name": "stderr",
     "output_type": "stream",
     "text": [
      "/Users/carolinecharrier/anaconda3/lib/python3.7/site-packages/IPython/core/interactiveshell.py:3275: UserWarning: To exit: use 'exit', 'quit', or Ctrl-D.\n",
      "  \n"
     ]
    }
   ],
   "source": [
    "app = Flask(__name__)\n",
    "\n",
    "@app.route('/predict/<prediction>')\n",
    "def predict(prediction):\n",
    "    regr = load('export_logreg2.joblib') \n",
    "    return str(regr.predict([[int(prediction)]]))\n",
    "\n",
    "# running REST interface, port=8585 for direct test\n",
    "if __name__ == '__main__':\n",
    "      app.run(debug=True, host='0.0.0.0', port=8585)"
   ]
  },
  {
   "cell_type": "code",
   "execution_count": null,
   "metadata": {},
   "outputs": [],
   "source": [
    "http://0.0.0.0:8585/predict/<prediction/\n",
    "## garder le modele en memoire, transformation sur donnees ? fit et transfrom --> dump \n",
    "# garder dans un autre fichier \n",
    "\n",
    "# dans flask : quelles donnnes ? pour 5 billets, comment je dois les trqnsformer pour que ca marche ?\n",
    "# load pour recup \n",
    "# predict qvec model \n",
    "# afficher la sortie\n",
    "# datacorner \n",
    "# Postman pour faire double verification (reponse is_genuire : true or false)"
   ]
  },
  {
   "cell_type": "code",
   "execution_count": null,
   "metadata": {},
   "outputs": [],
   "source": []
  }
 ],
 "metadata": {
  "kernelspec": {
   "display_name": "Python 3",
   "language": "python",
   "name": "python3"
  },
  "language_info": {
   "codemirror_mode": {
    "name": "ipython",
    "version": 3
   },
   "file_extension": ".py",
   "mimetype": "text/x-python",
   "name": "python",
   "nbconvert_exporter": "python",
   "pygments_lexer": "ipython3",
   "version": "3.7.1"
  }
 },
 "nbformat": 4,
 "nbformat_minor": 2
}
